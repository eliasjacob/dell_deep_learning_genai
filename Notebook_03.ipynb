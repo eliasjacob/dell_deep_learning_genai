{
 "cells": [
  {
   "cell_type": "markdown",
   "metadata": {},
   "source": [
    "# Computer Vision 101\n",
    "## Dell AI Delivery Academy\n",
    "### [Dr. Elias Jacob de Menezes Neto](https://sigaa.ufrn.br/sigaa/public/docente/portal.jsf?siape=2353000)"
   ]
  },
  {
   "cell_type": "markdown",
   "metadata": {},
   "source": [
    "# Summary\n",
    "\n",
    "## Keypoints\n",
    "\n",
    "- Convolutional Neural Networks (CNNs) are powerful for image tasks, using convolutional layers to extract spatial features while preserving spatial relationships\n",
    "\n",
    "- Key CNN components:\n",
    "- Convolutional layers for feature extraction\n",
    "- Pooling layers for downsampling and feature generalization\n",
    "- Fully connected layers for final classification\n",
    "\n",
    "- Data augmentation artificially increases dataset size and diversity through image transformations, improving model robustness and generalization\n",
    "\n",
    "- Transfer learning leverages pre-trained models to improve performance on new tasks, saving time and computational resources\n",
    "- Feature extraction uses pre-trained layers as fixed feature extractors\n",
    "- Fine-tuning adapts pre-trained weights to the new task\n",
    "\n",
    "- ResNet architecture uses residual connections to effectively train very deep networks by mitigating vanishing gradients\n",
    "\n",
    "- Normalizing inputs using the pre-trained model's mean and std ensures consistent processing\n",
    "\n",
    "- Gradually unfreezing layers during fine-tuning allows controlled adaptation while preserving useful low-level features\n",
    "\n",
    "## Takeaways\n",
    "\n",
    "- CNNs outperform fully connected networks on image tasks while using fewer parameters by leveraging spatial structure\n",
    "\n",
    "- Proper CNN architecture design with convolutional, pooling, and fully connected layers is crucial for effective feature extraction and classification\n",
    "\n",
    "- Data augmentation techniques like flipping, rotation, scaling, and color jittering significantly boost model performance and generalization, especially with limited data\n",
    "\n",
    "- Transfer learning through feature extraction or fine-tuning dramatically reduces training time, computational requirements, and data needs by reusing knowledge from large datasets\n",
    "\n",
    "- ResNet enables training very deep CNNs with improved accuracy by addressing vanishing gradients through residual connections\n",
    "\n",
    "- Matching input normalization to the pre-trained model is essential for consistent processing during transfer learning\n",
    "\n",
    "- Gradually unfreezing layers during fine-tuAn error occured, please retry or continue in a different thread"
   ]
  },
  {
   "cell_type": "markdown",
   "metadata": {},
   "source": [
    "# Convolutional Neural Networks (CNNs)\n",
    "\n",
    "Convolutional Neural Networks (CNNs) are a powerful class of artificial neural networks designed for working with image data. They utilize the spatial structure of images to extract meaningful features, making them incredibly effective at tasks like image classification and object detection.\n",
    "Convolutional Neural Networks utilize convolutional layers to extract and preserve spatial relationships, pooling layers to down-sample and generalize features, and fully connected layers to make precise classifications. By combining these layers, CNNs achieve exceptional performance in tasks involving image and object recognition."
   ]
  },
  {
   "cell_type": "markdown",
   "metadata": {},
   "source": [
    "\n",
    "## Introduction to CNNs\n",
    "\n",
    "CNNs preserve the spatial structure of problems and are extensively used for object recognition tasks such as handwritten digit recognition and face detection. In this lesson, you will discover:\n",
    "\n",
    "- The building blocks used in CNNs such as convolutional layers and pooling layers.\n",
    "- How these building blocks fit together with a short worked example.\n",
    "- Best practices for configuring CNNs for your own tasks.\n",
    "\n",
    "### Why Convolutional Neural Networks?\n",
    "\n",
    "Given a dataset of grayscale images standardized to 28x28 pixels each, a traditional feedforward neural network would require 784 input weights (plus one bias). Flattening the image matrix into a vector loses the spatial structure within the image, making it difficult for the neural network unless all images are perfectly resized.\n",
    "\n",
    "CNNs preserve the spatial relationship between pixels by learning internal feature representations using small squares of input data. These learned features can detect objects regardless of shifts or translations in the image. This capability makes CNNs effective for object recognition in various orientations.\n",
    "\n",
    "#### Key Benefits of CNNs\n",
    "\n",
    "- **Fewer Parameters:** CNNs use fewer parameters (weights) compared to fully connected networks.\n",
    "- **Invariance:** They are designed to be invariant to object position and distortion in the scene.\n",
    "- **Automatic Feature Learning:** CNNs automatically learn and generalize features from the input domain."
   ]
  },
  {
   "cell_type": "markdown",
   "metadata": {},
   "source": [
    "## Why Spatial Relationships Matter\n",
    "\n",
    "In the context of images, it's not just the individual pixel values that matter but also their spatial arrangement. Flattening a 2-dimensional matrix of pixel values into a 1-dimensional array loses this spatial information. CNNs address this issue by preserving the spatial relationships between pixels."
   ]
  },
  {
   "cell_type": "markdown",
   "metadata": {},
   "source": [
    "## What are Features in Images?\n",
    "\n",
    "A feature in an image is a visually distinctive attribute that helps in recognizing and differentiating objects. For instance, features of a dog image may include its tail, fur, and ears. These features enable us to identify a dog regardless of its breed."
   ]
  },
  {
   "cell_type": "markdown",
   "metadata": {},
   "source": [
    "\n",
    "### The Philosophical Aspect\n",
    "\n",
    "Consider this: What makes a dog... a dog? Imagine describing a dog to someone who has never seen one. You would talk about key characteristics like shape, size, fur, etc. This touches on a philosophical idea proposed by Plato, suggesting that there exists an ideal form or essence for everything. For dogs, this \"Form of Dog\" represents the perfect essence, encapsulating what it means to be a dog. In the context of CNNs, features are the essence of an object that helps in recognizing it. This essence is learned by the network during training and is represented by a dense vector containing the object's key attributes. This is usually know as an **embedding**."
   ]
  },
  {
   "cell_type": "markdown",
   "metadata": {},
   "source": [
    "## Extracting Features Using Convolutions\n",
    "\n",
    "To extract features from images, CNNs use a mathematical operation called *convolution*. Here's how it works:\n",
    "\n",
    "- **Kernel**: A small matrix used for convolution.\n",
    "- **Image Grid**: The larger grid representing the image.\n",
    "\n",
    "### Steps of Convolution Operation:\n",
    "\n",
    "1. **Place the Kernel**: Position the kernel over a block of the image.\n",
    "2. **Element-wise Multiplication**: Multiply each element of the kernel by the corresponding element of the image block.\n",
    "3. **Sum the Products**: Add up the results of these multiplications to obtain a single value.\n",
    "\n",
    "This operation is performed across the entire image to produce a feature map, highlighting important features like edges, textures, and patterns.\n",
    "\n",
    "![Convolution Illustration](images/conv_basic.png)"
   ]
  },
  {
   "cell_type": "markdown",
   "metadata": {},
   "source": [
    "## Why Use Convolutions?\n",
    "\n",
    "Convolutions are essential for detecting various features within an image, such as edges, textures, and patterns. Different kernels can be used to detect different types of features. By stacking multiple convolutional layers, CNNs can build up complex representations of images, making them highly effective for image-related tasks."
   ]
  },
  {
   "cell_type": "markdown",
   "metadata": {},
   "source": [
    "## How Convolution Works\n",
    "To understand this, let's consider a simple example illustrated in the paper [\"A Guide to Convolution Arithmetic for Deep Learning\"](https://arxiv.org/abs/1603.07285). Here's a visual representation showing a light blue 4×4 image and a dark blue 3×3 kernel applied over it:\n",
    "\n",
    "![Convolution Illustration](images/conv2.png)\n",
    "\n",
    "From the visual:\n",
    "\n",
    "- The original image has a height (`h`) of 4 pixels and a width (`w`) of 4 pixels.\n",
    "- The kernel (filter) has dimensions of 3×3 pixels.\n",
    "\n",
    "When the kernel is applied (convolved) over the image, the following steps occur:\n",
    "1. **Positioning the Kernel:** The kernel is placed at the top-left corner of the image.\n",
    "2. **Element-wise Multiplication:** Each element of the kernel is multiplied by the corresponding element of the image block under it.\n",
    "3. **Summation:** The results of these multiplications are summed up to produce a single value.\n",
    "4. **Repetition:** The kernel moves across the image with a certain stride, repeating the above steps until the entire image is covered.\n",
    "\n",
    "The result is a transformed output known as the feature map:\n",
    "- For our current configuration, the resulting activation map (feature map) will have a height of `h-2` and a width of `w-2`, due to the size of the kernel (3×3).\n",
    "\n",
    "Thus, if the original image is 4×4, the resulting feature map after applying a 3×3 kernel will be of size 2×2."
   ]
  },
  {
   "cell_type": "markdown",
   "metadata": {},
   "source": [
    "## Building Complex Models with CNNs\n",
    "\n",
    "We'll see how these simple convolution operations combine to create powerful models. These models can accomplish complex tasks, including image classification and object detection, demonstrating the true potential of CNNs."
   ]
  },
  {
   "cell_type": "markdown",
   "metadata": {},
   "source": [
    "## Layers in a CNN\n",
    "\n",
    "<p align=\"center\">\n",
    "<img src=\"images/cnn_diagram.webp\" alt=\"\" style=\"width: 50%; height: 50%\"/>\n",
    "</p>\n",
    "\n",
    "There are three primary types of layers in a CNN:\n",
    "\n",
    "1. **Convolutional Layers**\n",
    "2. **Pooling Layers**\n",
    "3. **Fully Connected Layers**\n",
    "\n",
    "### Convolutional Layers\n",
    "Convolutional layers are composed of filters and feature maps.\n",
    "\n",
    "#### Filters\n",
    "Filters, similar to neurons in traditional networks, have weighted inputs and generate output values. The input size is a fixed square called a patch or receptive field. In an input layer, these patches are pixel values, while deeper layers receive inputs from feature maps created by previous layers.\n",
    "\n",
    "#### Feature Maps\n",
    "The feature map is the output generated by applying a filter across the previous layer. As the filter moves across the layer, each position results in an activation collected in the feature map.\n",
    "\n",
    "**Terms to Know:**\n",
    "- **Stride:** The distance the filter moves across the input during each activation.\n",
    "- **Zero Padding:** Technique to handle cases where the receptive field reads off the edge by adding mock inputs with zero values.\n",
    "\n",
    "### Pooling Layers\n",
    "Pooling layers down-sample the feature map from previous layers. They follow convolutional layers and help consolidate learned features, preventing overfitting by generalizing feature representations.\n",
    "\n",
    "- Often use smaller receptive fields than convolutional layers.\n",
    "- Common operations include taking the average or maximum of input values to create new feature maps.\n",
    "\n",
    "### Fully Connected Layers\n",
    "Fully connected layers are traditional layers in a flat feedforward neural network. They may use nonlinear activation functions or softmax activations to output class predictions. They typically appear at the end of the network, making final classifications based on extracted features.\n"
   ]
  },
  {
   "cell_type": "markdown",
   "metadata": {},
   "source": [
    "\n",
    "## Challenging Dataset\n",
    "To thoroughly test and understand the capabilities of ResNet, we need a more challenging dataset than MNIST. The MNIST dataset, consisting of grayscale images of handwritten digits, is relatively simple, and conventional CNNs can achieve nearly 100% accuracy on it. Therefore, we'll use our Dogs Vs Cats dataset, which is more complex and challenging."
   ]
  },
  {
   "cell_type": "markdown",
   "metadata": {},
   "source": []
  },
  {
   "cell_type": "code",
   "execution_count": 1,
   "metadata": {},
   "outputs": [],
   "source": [
    "import torchvision.transforms.v2\n",
    "import torchvision\n",
    "from torch import nn\n",
    "import torch.nn.functional as F\n",
    "import os\n",
    "import pandas as pd\n",
    "from glob import glob\n",
    "from PIL import Image\n",
    "import torch\n",
    "from typing import Optional, Tuple\n",
    "import torchmetrics\n",
    "\n",
    "# Define a set of transformations to be applied to the images\n",
    "# These transformations will preprocess the images before they are fed into the model\n",
    "image_transforms = torchvision.transforms.v2.Compose([\n",
    "    # Convert input to an image\n",
    "    # This ensures that the input is in the correct format for subsequent transformations\n",
    "    torchvision.transforms.v2.ToImage(),\n",
    "    \n",
    "    # Convert image to float32 and scale pixel values to the range [0, 1]\n",
    "    # This is a common preprocessing step for neural networks\n",
    "    torchvision.transforms.v2.ToDtype(torch.float32, scale=True),\n",
    "    \n",
    "    # Resize image to 256x256 pixels with antialiasing\n",
    "    # Resizing ensures that all images have the same dimensions, which is required for batch processing\n",
    "    torchvision.transforms.v2.Resize((256, 256), antialias=True),\n",
    "    \n",
    "    # Normalize image using mean and std of ImageNet dataset\n",
    "    # Normalization helps in speeding up convergence during training\n",
    "    # The mean and std values are specific to the ImageNet dataset, which is commonly used for pre-trained models\n",
    "    torchvision.transforms.v2.Normalize(mean=[0.485, 0.456, 0.406], std=[0.229, 0.224, 0.225]) # This won't be very useful right now, but will be useful when we use pre-trained models and apply transfer learning.\n",
    "])\n"
   ]
  },
  {
   "cell_type": "code",
   "execution_count": 2,
   "metadata": {},
   "outputs": [],
   "source": [
    "class DogsCatsDataset(torch.utils.data.Dataset):\n",
    "    def __init__(self, root_dir: str, transform: Optional[torchvision.transforms.Compose] = None):\n",
    "        \"\"\"\n",
    "        Initialize the DogsCatsDataset.\n",
    "\n",
    "        Args:\n",
    "            root_dir (str): Directory with all the images.\n",
    "            transform (Optional[torchvision.transforms.Compose]): Transformations to be applied to the images.\n",
    "        \"\"\"\n",
    "        # Store the root directory containing the images\n",
    "        self.root_dir = root_dir\n",
    "        \n",
    "        # Store the transformations to be applied to the images\n",
    "        self.transform = transform\n",
    "        \n",
    "        # Get a list of all image file paths in the root directory and its subdirectories\n",
    "        # The glob pattern \"*/*.jpg\" matches all .jpg files in subdirectories of root_dir\n",
    "        self.image_paths = glob(os.path.join(root_dir, \"*/*.jpg\"))\n",
    "\n",
    "    def __len__(self) -> int:\n",
    "        \"\"\"\n",
    "        Return the total number of samples in the dataset.\n",
    "\n",
    "        Returns:\n",
    "            int: Number of samples.\n",
    "        \"\"\"\n",
    "        # Return the number of image file paths found\n",
    "        return len(self.image_paths)\n",
    "\n",
    "    def __getitem__(self, index: int) -> Tuple[torch.Tensor, int]:\n",
    "        \"\"\"\n",
    "        Get a sample from the dataset.\n",
    "\n",
    "        Args:\n",
    "            index (int): Index of the sample to retrieve.\n",
    "\n",
    "        Returns:\n",
    "            Tuple[torch.Tensor, int]: Tuple containing the image tensor and its label.\n",
    "        \"\"\"\n",
    "        # Get the file path of the image at the specified index\n",
    "        image_path = self.image_paths[index]\n",
    "        \n",
    "        # Open the image file\n",
    "        image = Image.open(image_path)\n",
    "        \n",
    "        # Determine the label based on the file path\n",
    "        # If the file path contains \"CAT\", assign label 1 (cat), otherwise assign label 0 (dog)\n",
    "        label = 1 if \"CAT\" in image_path else 0\n",
    "\n",
    "        # Apply transformations to the image if any are specified\n",
    "        if self.transform:\n",
    "            image = self.transform(image)\n",
    "\n",
    "        # Return the transformed image and its label as a tuple\n",
    "        return image, label"
   ]
  },
  {
   "cell_type": "code",
   "execution_count": 3,
   "metadata": {},
   "outputs": [],
   "source": [
    "import lightning as L\n",
    "from torch.utils.data import DataLoader\n",
    "from typing import Optional\n",
    "\n",
    "class DogsCatsDataModule(L.LightningDataModule):\n",
    "    def __init__(self, batch_size: int = 128, num_workers: int = 1):\n",
    "        \"\"\"\n",
    "        Initialize the DogsCatsDataModule.\n",
    "\n",
    "        Args:\n",
    "            batch_size (int): Number of samples per batch.\n",
    "            num_workers (int): Number of subprocesses to use for data loading.\n",
    "        \"\"\"\n",
    "        super().__init__()\n",
    "        self.batch_size = batch_size\n",
    "        self.num_workers = num_workers\n",
    "        \n",
    "    def setup(self, stage: Optional[str] = None) -> None:\n",
    "        \"\"\"\n",
    "        Set up the datasets for training, validation, and testing.\n",
    "\n",
    "        Args:\n",
    "            stage (Optional[str]): Stage to set up (e.g., 'fit', 'validate', 'test', 'predict').\n",
    "        \"\"\"\n",
    "        # Initialize the training dataset with the specified root directory and transformations\n",
    "        self.train_dataset = DogsCatsDataset(\n",
    "            root_dir=\"data/dogs-vs-cats/train\",\n",
    "            transform=image_transforms\n",
    "        )\n",
    "        \n",
    "        # Initialize the validation dataset with the specified root directory and transformations\n",
    "        self.validation_dataset = DogsCatsDataset(\n",
    "            root_dir=\"data/dogs-vs-cats/valid\",\n",
    "            transform=image_transforms\n",
    "        )\n",
    "        \n",
    "        # Initialize the test dataset with the specified root directory and transformations\n",
    "        self.test_dataset = DogsCatsDataset(\n",
    "            root_dir=\"data/dogs-vs-cats/test\",\n",
    "            transform=image_transforms\n",
    "        )\n",
    "        \n",
    "    def train_dataloader(self) -> DataLoader:\n",
    "        \"\"\"\n",
    "        Create DataLoader for the training dataset.\n",
    "\n",
    "        Returns:\n",
    "            DataLoader: DataLoader for the training dataset.\n",
    "        \"\"\"\n",
    "        # Return a DataLoader for the training dataset\n",
    "        # shuffle=True ensures that the data is shuffled at every epoch\n",
    "        return DataLoader(self.train_dataset, batch_size=self.batch_size, shuffle=True, num_workers=self.num_workers)\n",
    "    \n",
    "    def val_dataloader(self) -> DataLoader:\n",
    "        \"\"\"\n",
    "        Create DataLoader for the validation dataset.\n",
    "\n",
    "        Returns:\n",
    "            DataLoader: DataLoader for the validation dataset.\n",
    "        \"\"\"\n",
    "        # Return a DataLoader for the validation dataset\n",
    "        # shuffle=False ensures that the data is not shuffled, maintaining the order for validation\n",
    "        return DataLoader(self.validation_dataset, batch_size=self.batch_size, shuffle=False, num_workers=self.num_workers)\n",
    "    \n",
    "    def test_dataloader(self) -> DataLoader:\n",
    "        \"\"\"\n",
    "        Create DataLoader for the test dataset.\n",
    "\n",
    "        Returns:\n",
    "            DataLoader: DataLoader for the test dataset.\n",
    "        \"\"\"\n",
    "        # Return a DataLoader for the test dataset\n",
    "        # shuffle=False ensures that the data is not shuffled, maintaining the order for testing\n",
    "        return DataLoader(self.test_dataset, batch_size=self.batch_size, shuffle=False, num_workers=self.num_workers)"
   ]
  },
  {
   "cell_type": "code",
   "execution_count": 4,
   "metadata": {},
   "outputs": [],
   "source": [
    "# Initialize the data module for the Dogs vs. Cats dataset\n",
    "# batch_size=128 specifies that each batch will contain 128 samples\n",
    "# This data module will handle the loading and preprocessing of the dataset\n",
    "dm = DogsCatsDataModule(batch_size=128)"
   ]
  },
  {
   "cell_type": "code",
   "execution_count": 5,
   "metadata": {},
   "outputs": [],
   "source": [
    "\n",
    "# Create a simple CNN model\n",
    "class SimpleCNN(L.LightningModule):\n",
    "    def __init__(self, num_classes: int = 2):\n",
    "        \"\"\"\n",
    "        Initialize the SimpleCNN model.\n",
    "        Check output sizes at http://layer-calc.com/\n",
    "        \n",
    "        Args:\n",
    "            num_classes (int): Number of classes in the dataset.\n",
    "        \"\"\"\n",
    "        super().__init__()\n",
    "        # Define convolutional layers and max pooling\n",
    "        self.conv1 = torch.nn.Conv2d(3, 16, kernel_size=3, stride=1, padding=1) # 3 (RGB) input channels, 16 output channels, 3x3 kernel, 1 stride, 1 padding. The output size will be the same as the input size due to padding.\n",
    "        self.conv2 = torch.nn.Conv2d(16, 32, kernel_size=3, stride=1, padding=1) # 16 input channels, 32 output channels, 3x3 kernel, 1 stride, 1 padding. The output size will be the same as the input size due to padding.\n",
    "        self.conv3 = torch.nn.Conv2d(32, 64, kernel_size=3, stride=1, padding=1) # 32 input channels, 64 output channels, 3x3 kernel, 1 stride, 1 padding. The output size will be the same as the input size due to padding.\n",
    "        self.pool = torch.nn.MaxPool2d(kernel_size=2, stride=2, padding=0)  # Input size is halved\n",
    "        \n",
    "        # Define fully connected layers\n",
    "        self.fc1 = torch.nn.Linear(64 * 32 * 32, 512) # First fully connected layer\n",
    "        self.fc2 = torch.nn.Linear(512, num_classes) # Final output layer\n",
    "        \n",
    "        # Combine layers into a sequential model\n",
    "        self.sequential = torch.nn.Sequential(\n",
    "            self.conv1, # Output size: 16 x 256 x 256\n",
    "            torch.nn.ReLU(), # ReLU activation\n",
    "            self.pool, # Output size: 16 x 128 x 128\n",
    "            self.conv2, # Output size: 32 x 128 x 128\n",
    "            torch.nn.ReLU(), # ReLU activation\n",
    "            self.pool, # Output size: 32 x 64 x 64\n",
    "            self.conv3, # Output size: 64 x 64 x 64\n",
    "            torch.nn.ReLU(), # ReLU activation\n",
    "            self.pool, # Output size: 64 x 32 x 32\n",
    "            torch.nn.Flatten(), # Flatten the output\n",
    "            self.fc1, # Output size: 512\n",
    "            torch.nn.ReLU(), # ReLU activation\n",
    "            self.fc2 # Output size: num_classes\n",
    "        )\n",
    "\n",
    "        # Define accuracy metric\n",
    "        self.accuracy = torchmetrics.Accuracy(task=\"binary\")\n",
    "        \n",
    "    def forward(self, x: torch.Tensor) -> torch.Tensor:\n",
    "        \"\"\"\n",
    "        Forward pass of the model.\n",
    "\n",
    "        Args:\n",
    "            x (torch.Tensor): Input tensor.\n",
    "\n",
    "        Returns:\n",
    "            torch.Tensor: Output tensor.\n",
    "        \"\"\"\n",
    "        x = self.sequential(x)\n",
    "        return x\n",
    "\n",
    "    def training_step(self, batch: Tuple[torch.Tensor, torch.Tensor], batch_idx: int) -> torch.Tensor:\n",
    "        \"\"\"\n",
    "        Training step for the model.\n",
    "\n",
    "        Args:\n",
    "            batch (Tuple[torch.Tensor, torch.Tensor]): Batch of data containing inputs and labels.\n",
    "            batch_idx (int): Index of the batch.\n",
    "\n",
    "        Returns:\n",
    "            torch.Tensor: Computed loss for the batch.\n",
    "        \"\"\"\n",
    "        inputs, labels = batch\n",
    "        logits = self(inputs)\n",
    "        loss = F.cross_entropy(logits, labels)\n",
    "        self.log(\"train_loss\", loss, prog_bar=True)\n",
    "        return loss\n",
    "    \n",
    "    def validation_step(self, batch: Tuple[torch.Tensor, torch.Tensor], batch_idx: int) -> None:\n",
    "        \"\"\"\n",
    "        Validation step for the model.\n",
    "\n",
    "        Args:\n",
    "            batch (Tuple[torch.Tensor, torch.Tensor]): Batch of data containing inputs and labels.\n",
    "            batch_idx (int): Index of the batch.\n",
    "        \"\"\"\n",
    "        inputs, labels = batch\n",
    "        logits = self(inputs)\n",
    "        loss = F.cross_entropy(logits, labels)\n",
    "        self.log(\"val_loss\", loss, prog_bar=True, sync_dist=True)\n",
    "        probs = F.softmax(logits, dim=1)\n",
    "        preds = torch.argmax(probs, dim=1)\n",
    "        self.log(\"val_acc\", torch.sum(preds == labels).item() / len(labels), prog_bar=True, sync_dist=True)\n",
    "\n",
    "    \n",
    "    def test_step(self, batch: Tuple[torch.Tensor, torch.Tensor], batch_idx: int) -> None:\n",
    "        \"\"\"\n",
    "        Test step for the model.\n",
    "\n",
    "        Args:\n",
    "            batch (Tuple[torch.Tensor, torch.Tensor]): Batch of data containing inputs and labels.\n",
    "            batch_idx (int): Index of the batch.\n",
    "        \"\"\"\n",
    "        inputs, labels = batch\n",
    "        logits = self(inputs)\n",
    "        loss = F.cross_entropy(logits, labels)\n",
    "        self.log(\"test_loss\", loss, prog_bar=True)\n",
    "        probs = F.softmax(logits, dim=1)\n",
    "        preds = torch.argmax(probs, dim=1)\n",
    "        self.log(\"test_acc\", torch.sum(preds == labels).item() / len(labels), prog_bar=True)\n",
    "\n",
    "    def configure_optimizers(self) -> torch.optim.Optimizer:\n",
    "        \"\"\"\n",
    "        Configure the optimizer for the model.\n",
    "\n",
    "        Returns:\n",
    "            Optimizer: Configured optimizer.\n",
    "        \"\"\"\n",
    "        return torch.optim.Adam(self.parameters(), lr=3e-4)"
   ]
  },
  {
   "cell_type": "code",
   "execution_count": 6,
   "metadata": {},
   "outputs": [],
   "source": [
    "# Initialize the model\n",
    "simple_model = SimpleCNN()\n",
    "\n",
    "# Initialize a checkpoint callback to save the model during training\n",
    "# This callback monitors the validation loss and saves the model with the lowest validation loss\n",
    "checkpoint_callback = L.pytorch.callbacks.ModelCheckpoint(\n",
    "    monitor=\"val_loss\",  # Metric to monitor for saving the best model\n",
    "    dirpath=\"checkpoints\",  # Directory where the checkpoints will be saved\n",
    "    filename=\"simple-cnn-{epoch:02d}-{val_loss:.2f}\",  # Filename template for the saved checkpoints\n",
    "    save_top_k=1,  # Save only the best model (with the lowest validation loss)\n",
    "    mode=\"min\"  # Mode to determine the best model; 'min' means lower validation loss is better\n",
    ")  # Save the best model based on validation loss"
   ]
  },
  {
   "cell_type": "code",
   "execution_count": 7,
   "metadata": {},
   "outputs": [
    {
     "name": "stderr",
     "output_type": "stream",
     "text": [
      "/home/jacob/miniforge3/envs/dell/lib/python3.12/site-packages/lightning/fabric/connector.py:571: `precision=16` is supported for historical reasons but its usage is discouraged. Please set your precision to 16-mixed instead!\n",
      "Using 16bit Automatic Mixed Precision (AMP)\n",
      "/home/jacob/miniforge3/envs/dell/lib/python3.12/site-packages/lightning/pytorch/plugins/precision/amp.py:52: `torch.cuda.amp.GradScaler(args...)` is deprecated. Please use `torch.amp.GradScaler('cuda', args...)` instead.\n",
      "GPU available: True (cuda), used: True\n",
      "TPU available: False, using: 0 TPU cores\n",
      "HPU available: False, using: 0 HPUs\n",
      "You are using a CUDA device ('NVIDIA GeForce RTX 3090') that has Tensor Cores. To properly utilize them, you should set `torch.set_float32_matmul_precision('medium' | 'high')` which will trade-off precision for performance. For more details, read https://pytorch.org/docs/stable/generated/torch.set_float32_matmul_precision.html#torch.set_float32_matmul_precision\n",
      "Initializing distributed: GLOBAL_RANK: 0, MEMBER: 1/2\n",
      "You are using a CUDA device ('NVIDIA GeForce RTX 3090') that has Tensor Cores. To properly utilize them, you should set `torch.set_float32_matmul_precision('medium' | 'high')` which will trade-off precision for performance. For more details, read https://pytorch.org/docs/stable/generated/torch.set_float32_matmul_precision.html#torch.set_float32_matmul_precision\n",
      "Initializing distributed: GLOBAL_RANK: 1, MEMBER: 2/2\n",
      "----------------------------------------------------------------------------------------------------\n",
      "distributed_backend=nccl\n",
      "All distributed processes registered. Starting with 2 processes\n",
      "----------------------------------------------------------------------------------------------------\n",
      "\n",
      "2024-08-03 16:03:14.725456: E external/local_xla/xla/stream_executor/cuda/cuda_fft.cc:485] Unable to register cuFFT factory: Attempting to register factory for plugin cuFFT when one has already been registered\n",
      "2024-08-03 16:03:14.745897: E external/local_xla/xla/stream_executor/cuda/cuda_dnn.cc:8454] Unable to register cuDNN factory: Attempting to register factory for plugin cuDNN when one has already been registered\n",
      "2024-08-03 16:03:14.752247: E external/local_xla/xla/stream_executor/cuda/cuda_blas.cc:1452] Unable to register cuBLAS factory: Attempting to register factory for plugin cuBLAS when one has already been registered\n",
      "2024-08-03 16:03:14.765861: I tensorflow/core/platform/cpu_feature_guard.cc:210] This TensorFlow binary is optimized to use available CPU instructions in performance-critical operations.\n",
      "To enable the following instructions: AVX2 FMA, in other operations, rebuild TensorFlow with the appropriate compiler flags.\n",
      "2024-08-03 16:03:15.598562: W tensorflow/compiler/tf2tensorrt/utils/py_utils.cc:38] TF-TRT Warning: Could not find TensorRT\n",
      "/home/jacob/miniforge3/envs/dell/lib/python3.12/site-packages/lightning/pytorch/callbacks/model_checkpoint.py:652: Checkpoint directory /media/nas-elias/drive/UFRN/Disciplinas/2024-2/Dell Deep Learning and Gen-AI/checkpoints exists and is not empty.\n",
      "LOCAL_RANK: 0 - CUDA_VISIBLE_DEVICES: [0,1]\n",
      "LOCAL_RANK: 1 - CUDA_VISIBLE_DEVICES: [0,1]\n",
      "\n",
      "  | Name       | Type           | Params | Mode \n",
      "------------------------------------------------------\n",
      "0 | conv1      | Conv2d         | 448    | train\n",
      "1 | conv2      | Conv2d         | 4.6 K  | train\n",
      "2 | conv3      | Conv2d         | 18.5 K | train\n",
      "3 | pool       | MaxPool2d      | 0      | train\n",
      "4 | fc1        | Linear         | 33.6 M | train\n",
      "5 | fc2        | Linear         | 1.0 K  | train\n",
      "6 | sequential | Sequential     | 33.6 M | train\n",
      "7 | accuracy   | BinaryAccuracy | 0      | train\n",
      "------------------------------------------------------\n",
      "33.6 M    Trainable params\n",
      "0         Non-trainable params\n",
      "33.6 M    Total params\n",
      "134.318   Total estimated model params size (MB)\n"
     ]
    },
    {
     "data": {
      "application/vnd.jupyter.widget-view+json": {
       "model_id": "a17bc7375e9d4a67aafc674b37854a1f",
       "version_major": 2,
       "version_minor": 0
      },
      "text/plain": [
       "Sanity Checking: |          | 0/? [00:00<?, ?it/s]"
      ]
     },
     "metadata": {},
     "output_type": "display_data"
    },
    {
     "name": "stderr",
     "output_type": "stream",
     "text": [
      "/home/jacob/miniforge3/envs/dell/lib/python3.12/site-packages/lightning/pytorch/trainer/connectors/data_connector.py:424: The 'val_dataloader' does not have many workers which may be a bottleneck. Consider increasing the value of the `num_workers` argument` to `num_workers=23` in the `DataLoader` to improve performance.\n",
      "/home/jacob/miniforge3/envs/dell/lib/python3.12/site-packages/lightning/pytorch/trainer/connectors/data_connector.py:424: The 'train_dataloader' does not have many workers which may be a bottleneck. Consider increasing the value of the `num_workers` argument` to `num_workers=23` in the `DataLoader` to improve performance.\n"
     ]
    },
    {
     "data": {
      "application/vnd.jupyter.widget-view+json": {
       "model_id": "a474cee19d01430a9bee89377af6c8e2",
       "version_major": 2,
       "version_minor": 0
      },
      "text/plain": [
       "Training: |          | 0/? [00:00<?, ?it/s]"
      ]
     },
     "metadata": {},
     "output_type": "display_data"
    },
    {
     "name": "stderr",
     "output_type": "stream",
     "text": [
      "/home/jacob/miniforge3/envs/dell/lib/python3.12/site-packages/PIL/TiffImagePlugin.py:900: UserWarning: Truncated File Read\n",
      "  warnings.warn(str(msg))\n"
     ]
    },
    {
     "data": {
      "application/vnd.jupyter.widget-view+json": {
       "model_id": "7679448a4bcc41af95de59dcfc743e75",
       "version_major": 2,
       "version_minor": 0
      },
      "text/plain": [
       "Validation: |          | 0/? [00:00<?, ?it/s]"
      ]
     },
     "metadata": {},
     "output_type": "display_data"
    },
    {
     "name": "stderr",
     "output_type": "stream",
     "text": [
      "/home/jacob/miniforge3/envs/dell/lib/python3.12/site-packages/PIL/TiffImagePlugin.py:900: UserWarning: Truncated File Read\n",
      "  warnings.warn(str(msg))\n"
     ]
    },
    {
     "data": {
      "application/vnd.jupyter.widget-view+json": {
       "model_id": "1e76f0531260490e8be49fac46d4bc23",
       "version_major": 2,
       "version_minor": 0
      },
      "text/plain": [
       "Validation: |          | 0/? [00:00<?, ?it/s]"
      ]
     },
     "metadata": {},
     "output_type": "display_data"
    },
    {
     "name": "stderr",
     "output_type": "stream",
     "text": [
      "/home/jacob/miniforge3/envs/dell/lib/python3.12/site-packages/PIL/TiffImagePlugin.py:900: UserWarning: Truncated File Read\n",
      "  warnings.warn(str(msg))\n"
     ]
    },
    {
     "data": {
      "application/vnd.jupyter.widget-view+json": {
       "model_id": "696a9e7c1cd74eb693e4f167e6bf9e47",
       "version_major": 2,
       "version_minor": 0
      },
      "text/plain": [
       "Validation: |          | 0/? [00:00<?, ?it/s]"
      ]
     },
     "metadata": {},
     "output_type": "display_data"
    },
    {
     "name": "stderr",
     "output_type": "stream",
     "text": [
      "/home/jacob/miniforge3/envs/dell/lib/python3.12/site-packages/PIL/TiffImagePlugin.py:900: UserWarning: Truncated File Read\n",
      "  warnings.warn(str(msg))\n"
     ]
    },
    {
     "data": {
      "application/vnd.jupyter.widget-view+json": {
       "model_id": "f71f274cb79c4928bbd1c4050c4cc152",
       "version_major": 2,
       "version_minor": 0
      },
      "text/plain": [
       "Validation: |          | 0/? [00:00<?, ?it/s]"
      ]
     },
     "metadata": {},
     "output_type": "display_data"
    },
    {
     "name": "stderr",
     "output_type": "stream",
     "text": [
      "/home/jacob/miniforge3/envs/dell/lib/python3.12/site-packages/PIL/TiffImagePlugin.py:900: UserWarning: Truncated File Read\n",
      "  warnings.warn(str(msg))\n"
     ]
    },
    {
     "data": {
      "application/vnd.jupyter.widget-view+json": {
       "model_id": "c476f64c73db41498f85ecef25f541ae",
       "version_major": 2,
       "version_minor": 0
      },
      "text/plain": [
       "Validation: |          | 0/? [00:00<?, ?it/s]"
      ]
     },
     "metadata": {},
     "output_type": "display_data"
    },
    {
     "name": "stderr",
     "output_type": "stream",
     "text": [
      "/home/jacob/miniforge3/envs/dell/lib/python3.12/site-packages/PIL/TiffImagePlugin.py:900: UserWarning: Truncated File Read\n",
      "  warnings.warn(str(msg))\n"
     ]
    },
    {
     "data": {
      "application/vnd.jupyter.widget-view+json": {
       "model_id": "ea176267b1d741f2812e12f7d4070164",
       "version_major": 2,
       "version_minor": 0
      },
      "text/plain": [
       "Validation: |          | 0/? [00:00<?, ?it/s]"
      ]
     },
     "metadata": {},
     "output_type": "display_data"
    },
    {
     "name": "stderr",
     "output_type": "stream",
     "text": [
      "/home/jacob/miniforge3/envs/dell/lib/python3.12/site-packages/PIL/TiffImagePlugin.py:900: UserWarning: Truncated File Read\n",
      "  warnings.warn(str(msg))\n"
     ]
    },
    {
     "data": {
      "application/vnd.jupyter.widget-view+json": {
       "model_id": "8646a594e3c04b14a0dadf65ddcbd0fc",
       "version_major": 2,
       "version_minor": 0
      },
      "text/plain": [
       "Validation: |          | 0/? [00:00<?, ?it/s]"
      ]
     },
     "metadata": {},
     "output_type": "display_data"
    },
    {
     "name": "stderr",
     "output_type": "stream",
     "text": [
      "/home/jacob/miniforge3/envs/dell/lib/python3.12/site-packages/PIL/TiffImagePlugin.py:900: UserWarning: Truncated File Read\n",
      "  warnings.warn(str(msg))\n"
     ]
    },
    {
     "data": {
      "application/vnd.jupyter.widget-view+json": {
       "model_id": "5e9ed9318620417983c6298d1e4887cd",
       "version_major": 2,
       "version_minor": 0
      },
      "text/plain": [
       "Validation: |          | 0/? [00:00<?, ?it/s]"
      ]
     },
     "metadata": {},
     "output_type": "display_data"
    },
    {
     "name": "stderr",
     "output_type": "stream",
     "text": [
      "/home/jacob/miniforge3/envs/dell/lib/python3.12/site-packages/PIL/TiffImagePlugin.py:900: UserWarning: Truncated File Read\n",
      "  warnings.warn(str(msg))\n"
     ]
    },
    {
     "data": {
      "application/vnd.jupyter.widget-view+json": {
       "model_id": "203a5cef74ef440cb010691901477bff",
       "version_major": 2,
       "version_minor": 0
      },
      "text/plain": [
       "Validation: |          | 0/? [00:00<?, ?it/s]"
      ]
     },
     "metadata": {},
     "output_type": "display_data"
    },
    {
     "name": "stderr",
     "output_type": "stream",
     "text": [
      "/home/jacob/miniforge3/envs/dell/lib/python3.12/site-packages/PIL/TiffImagePlugin.py:900: UserWarning: Truncated File Read\n",
      "  warnings.warn(str(msg))\n"
     ]
    },
    {
     "data": {
      "application/vnd.jupyter.widget-view+json": {
       "model_id": "12fba57fcc0d4b5398ed6a92184dd04c",
       "version_major": 2,
       "version_minor": 0
      },
      "text/plain": [
       "Validation: |          | 0/? [00:00<?, ?it/s]"
      ]
     },
     "metadata": {},
     "output_type": "display_data"
    },
    {
     "name": "stderr",
     "output_type": "stream",
     "text": [
      "`Trainer.fit` stopped: `max_epochs=10` reached.\n",
      "/home/jacob/miniforge3/envs/dell/lib/python3.12/site-packages/lightning/fabric/utilities/cloud_io.py:57: You are using `torch.load` with `weights_only=False` (the current default value), which uses the default pickle module implicitly. It is possible to construct malicious pickle data which will execute arbitrary code during unpickling (See https://github.com/pytorch/pytorch/blob/main/SECURITY.md#untrusted-models for more details). In a future release, the default value for `weights_only` will be flipped to `True`. This limits the functions that could be executed during unpickling. Arbitrary objects will no longer be allowed to be loaded via this mode unless they are explicitly allowlisted by the user via `torch.serialization.add_safe_globals`. We recommend you start setting `weights_only=True` for any use case where you don't have full control of the loaded file. Please open an issue on GitHub for any issues related to this experimental feature.\n"
     ]
    }
   ],
   "source": [
    "# Initialize the trainer, which is responsible for handling the training process\n",
    "trainer = L.Trainer(\n",
    "    max_epochs=10,  # Train the model for a maximum of 10 epochs\n",
    "    accelerator='auto',  # Automatically select the best available hardware (CPU or GPU)\n",
    "    devices=2,  # Use 2 devices (e.g., 2 GPUs) for training\n",
    "    precision=16,  # Use 16-bit precision for faster training and reduced memory usage\n",
    "    callbacks=[checkpoint_callback]  # Add the checkpoint callback to save the best model during training\n",
    ")\n",
    "\n",
    "# Train the model using the trainer\n",
    "# dm is the data module that provides the training and validation datasets\n",
    "trainer.fit(simple_model, dm)"
   ]
  },
  {
   "cell_type": "code",
   "execution_count": 8,
   "metadata": {},
   "outputs": [
    {
     "name": "stdout",
     "output_type": "stream",
     "text": [
      "Best model path: /media/nas-elias/drive/UFRN/Disciplinas/2024-2/Dell Deep Learning and Gen-AI/checkpoints/simple-cnn-epoch=06-val_loss=0.45.ckpt\n"
     ]
    }
   ],
   "source": [
    "print(f'Best model path: {checkpoint_callback.best_model_path}')"
   ]
  },
  {
   "cell_type": "code",
   "execution_count": 9,
   "metadata": {},
   "outputs": [
    {
     "name": "stderr",
     "output_type": "stream",
     "text": [
      "GPU available: True (cuda), used: False\n",
      "TPU available: False, using: 0 TPU cores\n",
      "HPU available: False, using: 0 HPUs\n",
      "/home/jacob/miniforge3/envs/dell/lib/python3.12/site-packages/lightning/pytorch/trainer/setup.py:177: GPU available but not used. You can set it by doing `Trainer(accelerator='gpu')`.\n"
     ]
    }
   ],
   "source": [
    "# Reload the best model from the checkpoint\n",
    "# This loads the model with the lowest validation loss saved during training\n",
    "# checkpoint_callback.best_model_path contains the path to the best model checkpoint\n",
    "best_model = SimpleCNN.load_from_checkpoint(checkpoint_callback.best_model_path)\n",
    "\n",
    "# Initialize a new trainer for inference or further evaluation\n",
    "# accelerator='cpu' specifies that we are using the CPU for this stage\n",
    "# callbacks=[checkpoint_callback] ensures that the checkpoint callback is included\n",
    "# This is useful if we want to continue training or perform additional evaluations\n",
    "new_trainer = L.Trainer(\n",
    "    accelerator='cpu',  # Use CPU for inference\n",
    "    callbacks=[checkpoint_callback]  # Include the checkpoint callback\n",
    ")"
   ]
  },
  {
   "cell_type": "code",
   "execution_count": 10,
   "metadata": {},
   "outputs": [
    {
     "name": "stderr",
     "output_type": "stream",
     "text": [
      "2024-08-03 16:27:25.651108: E external/local_xla/xla/stream_executor/cuda/cuda_fft.cc:485] Unable to register cuFFT factory: Attempting to register factory for plugin cuFFT when one has already been registered\n",
      "2024-08-03 16:27:25.669798: E external/local_xla/xla/stream_executor/cuda/cuda_dnn.cc:8454] Unable to register cuDNN factory: Attempting to register factory for plugin cuDNN when one has already been registered\n",
      "2024-08-03 16:27:25.676153: E external/local_xla/xla/stream_executor/cuda/cuda_blas.cc:1452] Unable to register cuBLAS factory: Attempting to register factory for plugin cuBLAS when one has already been registered\n",
      "2024-08-03 16:27:25.691313: I tensorflow/core/platform/cpu_feature_guard.cc:210] This TensorFlow binary is optimized to use available CPU instructions in performance-critical operations.\n",
      "To enable the following instructions: AVX2 FMA, in other operations, rebuild TensorFlow with the appropriate compiler flags.\n",
      "2024-08-03 16:27:26.526817: W tensorflow/compiler/tf2tensorrt/utils/py_utils.cc:38] TF-TRT Warning: Could not find TensorRT\n",
      "/home/jacob/miniforge3/envs/dell/lib/python3.12/site-packages/lightning/pytorch/trainer/connectors/data_connector.py:424: The 'test_dataloader' does not have many workers which may be a bottleneck. Consider increasing the value of the `num_workers` argument` to `num_workers=47` in the `DataLoader` to improve performance.\n"
     ]
    },
    {
     "data": {
      "application/vnd.jupyter.widget-view+json": {
       "model_id": "030d22dc6cc0486f9b061e082239d1bb",
       "version_major": 2,
       "version_minor": 0
      },
      "text/plain": [
       "Testing: |          | 0/? [00:00<?, ?it/s]"
      ]
     },
     "metadata": {},
     "output_type": "display_data"
    },
    {
     "data": {
      "text/html": [
       "<pre style=\"white-space:pre;overflow-x:auto;line-height:normal;font-family:Menlo,'DejaVu Sans Mono',consolas,'Courier New',monospace\">┏━━━━━━━━━━━━━━━━━━━━━━━━━━━┳━━━━━━━━━━━━━━━━━━━━━━━━━━━┓\n",
       "┃<span style=\"font-weight: bold\">        Test metric        </span>┃<span style=\"font-weight: bold\">       DataLoader 0        </span>┃\n",
       "┡━━━━━━━━━━━━━━━━━━━━━━━━━━━╇━━━━━━━━━━━━━━━━━━━━━━━━━━━┩\n",
       "│<span style=\"color: #008080; text-decoration-color: #008080\">         test_acc          </span>│<span style=\"color: #800080; text-decoration-color: #800080\">     0.79534512758255      </span>│\n",
       "│<span style=\"color: #008080; text-decoration-color: #008080\">         test_loss         </span>│<span style=\"color: #800080; text-decoration-color: #800080\">    0.44242116808891296    </span>│\n",
       "└───────────────────────────┴───────────────────────────┘\n",
       "</pre>\n"
      ],
      "text/plain": [
       "┏━━━━━━━━━━━━━━━━━━━━━━━━━━━┳━━━━━━━━━━━━━━━━━━━━━━━━━━━┓\n",
       "┃\u001b[1m \u001b[0m\u001b[1m       Test metric       \u001b[0m\u001b[1m \u001b[0m┃\u001b[1m \u001b[0m\u001b[1m      DataLoader 0       \u001b[0m\u001b[1m \u001b[0m┃\n",
       "┡━━━━━━━━━━━━━━━━━━━━━━━━━━━╇━━━━━━━━━━━━━━━━━━━━━━━━━━━┩\n",
       "│\u001b[36m \u001b[0m\u001b[36m        test_acc         \u001b[0m\u001b[36m \u001b[0m│\u001b[35m \u001b[0m\u001b[35m    0.79534512758255     \u001b[0m\u001b[35m \u001b[0m│\n",
       "│\u001b[36m \u001b[0m\u001b[36m        test_loss        \u001b[0m\u001b[36m \u001b[0m│\u001b[35m \u001b[0m\u001b[35m   0.44242116808891296   \u001b[0m\u001b[35m \u001b[0m│\n",
       "└───────────────────────────┴───────────────────────────┘\n"
      ]
     },
     "metadata": {},
     "output_type": "display_data"
    },
    {
     "data": {
      "text/plain": [
       "[{'test_loss': 0.44242116808891296, 'test_acc': 0.79534512758255}]"
      ]
     },
     "execution_count": 10,
     "metadata": {},
     "output_type": "execute_result"
    }
   ],
   "source": [
    "# Evaluate the best model on the test dataset using the new trainer\n",
    "# best_model is the model loaded from the checkpoint with the lowest validation loss\n",
    "# dm is the data module that provides the test dataset\n",
    "# This will run the test method to compute metrics such as accuracy and loss on the test set\n",
    "# The results will help us understand how well the model generalizes to unseen data\n",
    "new_trainer.test(best_model, datamodule=dm)"
   ]
  },
  {
   "cell_type": "code",
   "execution_count": 11,
   "metadata": {},
   "outputs": [
    {
     "data": {
      "image/png": "[encoded data removed]",
      "text/plain": [
       "<Figure size 640x480 with 1 Axes>"
      ]
     },
     "metadata": {},
     "output_type": "display_data"
    }
   ],
   "source": [
    "from matplotlib import pyplot as plt\n",
    "\n",
    "# Define a mapping from numerical labels to class names\n",
    "label_mapping = {0: \"Dog\", 1: \"Cat\"}\n",
    "\n",
    "# Get one batch of images and labels from the test dataloader of the data module dm\n",
    "# next(iter(...)) retrieves the first batch from the dataloader\n",
    "image, label = next(iter(dm.test_dataloader()))\n",
    "\n",
    "# Select the first image and its corresponding label from the batch\n",
    "image = image[0]\n",
    "label = label[0]\n",
    "\n",
    "# Revert the normalization applied during preprocessing to get the original image values\n",
    "# The normalization values used here should match those used during training\n",
    "image = image * torch.tensor([0.229, 0.224, 0.225]).view(3, 1, 1) + torch.tensor([0.485, 0.456, 0.406]).view(3, 1, 1)\n",
    "\n",
    "# Display the image using matplotlib\n",
    "# permute(1, 2, 0) changes the order of dimensions from (C, H, W) to (H, W, C) for displaying\n",
    "plt.imshow(image.permute(1, 2, 0))\n",
    "\n",
    "# Set the title of the plot to the class name of the image\n",
    "# label_mapping[int(label)] converts the numerical label to a class name\n",
    "plt.title(f\"Label: {label_mapping[int(label)]}\")\n",
    "\n",
    "# Show the plot\n",
    "plt.show()"
   ]
  },
  {
   "cell_type": "code",
   "execution_count": 12,
   "metadata": {},
   "outputs": [
    {
     "name": "stdout",
     "output_type": "stream",
     "text": [
      "The model has 33,579,554 trainable parameters\n"
     ]
    }
   ],
   "source": [
    "def count_parameters(model):\n",
    "    # Calculate the total number of trainable parameters in the model\n",
    "    # p.numel() returns the number of elements in the parameter tensor\n",
    "    # p.requires_grad checks if the parameter requires gradient computation (i.e., it is trainable)\n",
    "    return sum(p.numel() for p in model.parameters() if p.requires_grad)\n",
    "\n",
    "# Print the total number of trainable parameters in the best_model\n",
    "# count_parameters(best_model) returns the count of trainable parameters\n",
    "# :, in the format string adds commas as thousand separators for better readability\n",
    "print(f\"The model has {count_parameters(best_model):,} trainable parameters\")"
   ]
  },
  {
   "cell_type": "markdown",
   "metadata": {},
   "source": [
    "> Do you remember the number of trainable parameters from our Notebook 02? There were 70,260,738 trainable parameters. More than twice the number of parameters in our simple CNN model (yet, our accuracy was less than 60%).\n",
    ">\n",
    "> This is the power of CNNs and the reason why they are so effective in image-related tasks."
   ]
  },
  {
   "cell_type": "markdown",
   "metadata": {},
   "source": [
    "# Introduction to ResNet (Residual Network) Architecture"
   ]
  },
  {
   "cell_type": "markdown",
   "metadata": {},
   "source": [
    "\n",
    "Building upon the foundational knowledge of Convolutional Neural Networks (CNNs), let's understand the ResNet (Residual Network) architecture.\n",
    "\n",
    "## Origin of ResNet\n",
    "ResNet was introduced in 2015 by Kaiming He et al. in their seminal paper [\"Deep Residual Learning for Image Recognition\"](https://arxiv.org/abs/1512.03385). Since its introduction, ResNet has become one of the most widely used model architectures in deep learning.\n",
    "\n",
    "## Why ResNet is Important\n",
    "The primary innovation of ResNet is the use of residual connections or \"skip connections.\" These are shortcuts that allow the model to bypass one or more layers, addressing the problem of vanishing gradients in very deep networks. This makes it possible to train much deeper networks without a loss in performance.\n",
    "\n",
    "## Overview of Residual Connections\n",
    "Residual connections help to:\n",
    "1. **Improve Gradient Flow:** By providing alternate paths for gradient backpropagation.\n",
    "2. **Mitigate Vanishing Gradients:** Making it feasible to train deeper models with higher accuracy.\n",
    "3. **Simplify Learning:** Allowing the network to learn identity mappings which make training easier.\n",
    "\n",
    "Modern image models often incorporate these residual connections. Most contemporary advancements in image models are essentially variations and improvements upon the original ResNet structure."
   ]
  },
  {
   "cell_type": "markdown",
   "metadata": {},
   "source": [
    "\n",
    "## Basic Structure of ResNet\n",
    "We will first examine the basic ResNet as it was initially designed. The fundamental building block of ResNet is the residual block, which consists of two or three convolutional layers along with a shortcut connection that skips one or more layers. This design allows the network to learn residual functions with reference to the layer inputs.\n",
    "\n",
    "## Modern Tweaks and Enhancements\n",
    "After understanding the basic architecture, we will explore modern tweaks and enhancements that have made ResNet even more performant. These adjustments include modifications in:\n",
    "- **Block Structure:** Variations in the number of layers within a residual block.\n",
    "- **Layer Types:** Incorporation of different types of layers like bottleneck layers.\n",
    "- **Normalization Techniques:** Advanced normalization techniques for better convergence.\n",
    "- **Activation Functions:** Use of more effective activation functions.\n",
    "\n",
    "## ResNet Variants\n",
    "ResNet has several variants, including ResNet-18, ResNet-34, ResNet-50, ResNet-101, and ResNet-152. The numbers in the names indicate the number of layers in the network. For instance, ResNet-50 has 50 layers, while ResNet-101 has 101 layers. These variants are designed for different use cases, with deeper networks offering higher accuracy but requiring more computational resources."
   ]
  },
  {
   "cell_type": "markdown",
   "metadata": {},
   "source": [
    "\n",
    "`Let's implement a ResNet model. We'll use the ResNet-34 variant, which is a good balance between performance and computational efficiency. This model has 34 layers and is widely used for various image recognition tasks.`"
   ]
  },
  {
   "cell_type": "code",
   "execution_count": 13,
   "metadata": {},
   "outputs": [],
   "source": [
    "class ResNet34Model(L.LightningModule):\n",
    "    def __init__(self, num_classes: int = 2):\n",
    "        super().__init__()\n",
    "        # Load ResNet34 model without pre-trained weights\n",
    "        self.resnet34 = torchvision.models.resnet34(pretrained=False)\n",
    "        # Modify the final fully connected layer to match our number of classes\n",
    "        self.resnet34.fc = nn.Linear(self.resnet34.fc.in_features, num_classes)\n",
    "\n",
    "        # Initialize accuracy metric for binary classification\n",
    "        self.accuracy = torchmetrics.Accuracy(task=\"binary\")\n",
    "        \n",
    "    def forward(self, x: torch.Tensor) -> torch.Tensor:\n",
    "        # Simple forward pass through the ResNet34 model\n",
    "        return self.resnet34(x)\n",
    "\n",
    "    def training_step(self, batch: Tuple[torch.Tensor, torch.Tensor], batch_idx: int) -> torch.Tensor:\n",
    "        inputs, labels = batch\n",
    "        logits = self(inputs)\n",
    "        # Compute cross-entropy loss\n",
    "        loss = F.cross_entropy(logits, labels)\n",
    "        # Log the training loss\n",
    "        self.log(\"train_loss\", loss, prog_bar=True)\n",
    "        return loss\n",
    "    \n",
    "    def validation_step(self, batch: Tuple[torch.Tensor, torch.Tensor], batch_idx: int) -> None:\n",
    "        inputs, labels = batch\n",
    "        logits = self(inputs)\n",
    "        # Compute validation loss\n",
    "        loss = F.cross_entropy(logits, labels)\n",
    "        # Log validation loss\n",
    "        self.log(\"val_loss\", loss, prog_bar=True, sync_dist=True)\n",
    "        \n",
    "        # Compute probabilities and predictions\n",
    "        probs = F.softmax(logits, dim=1)\n",
    "        preds = torch.argmax(probs, dim=1)\n",
    "        # Compute and log validation accuracy\n",
    "        self.log(\"val_acc\", torch.sum(preds == labels).item() / len(labels), prog_bar=True, sync_dist=True)\n",
    "\n",
    "    \n",
    "    def test_step(self, batch: Tuple[torch.Tensor, torch.Tensor], batch_idx: int) -> None:\n",
    "        inputs, labels = batch\n",
    "        logits = self(inputs)\n",
    "        # Compute test loss\n",
    "        loss = F.cross_entropy(logits, labels)\n",
    "        # Log test loss\n",
    "        self.log(\"test_loss\", loss, prog_bar=True)\n",
    "        \n",
    "        # Compute probabilities and predictions\n",
    "        probs = F.softmax(logits, dim=1)\n",
    "        preds = torch.argmax(probs, dim=1)\n",
    "        # Compute and log test accuracy\n",
    "        self.log(\"test_acc\", torch.sum(preds == labels).item() / len(labels), prog_bar=True)\n",
    "\n",
    "    def configure_optimizers(self) -> torch.optim.Optimizer:\n",
    "        # Use Adam optimizer with a learning rate of 3e-4\n",
    "        return torch.optim.Adam(self.parameters(), lr=3e-4)"
   ]
  },
  {
   "cell_type": "code",
   "execution_count": 14,
   "metadata": {},
   "outputs": [
    {
     "name": "stderr",
     "output_type": "stream",
     "text": [
      "/home/jacob/miniforge3/envs/dell/lib/python3.12/site-packages/torchvision/models/_utils.py:208: UserWarning: The parameter 'pretrained' is deprecated since 0.13 and may be removed in the future, please use 'weights' instead.\n",
      "  warnings.warn(\n",
      "/home/jacob/miniforge3/envs/dell/lib/python3.12/site-packages/torchvision/models/_utils.py:223: UserWarning: Arguments other than a weight enum or `None` for 'weights' are deprecated since 0.13 and may be removed in the future. The current behavior is equivalent to passing `weights=None`.\n",
      "  warnings.warn(msg)\n",
      "/home/jacob/miniforge3/envs/dell/lib/python3.12/site-packages/lightning/fabric/connector.py:571: `precision=16` is supported for historical reasons but its usage is discouraged. Please set your precision to 16-mixed instead!\n",
      "Using 16bit Automatic Mixed Precision (AMP)\n",
      "/home/jacob/miniforge3/envs/dell/lib/python3.12/site-packages/lightning/pytorch/plugins/precision/amp.py:52: `torch.cuda.amp.GradScaler(args...)` is deprecated. Please use `torch.amp.GradScaler('cuda', args...)` instead.\n",
      "GPU available: True (cuda), used: True\n",
      "TPU available: False, using: 0 TPU cores\n",
      "HPU available: False, using: 0 HPUs\n"
     ]
    }
   ],
   "source": [
    "# Initialize the ResNet34 model\n",
    "resnet34_model = ResNet34Model()\n",
    "\n",
    "# Initialize a checkpoint callback to save the model during training\n",
    "# This callback monitors the validation loss and saves the model with the lowest validation loss\n",
    "checkpoint_callback = L.pytorch.callbacks.ModelCheckpoint(\n",
    "    monitor=\"val_loss\",  # Metric to monitor for saving the best model\n",
    "    dirpath=\"checkpoints\",  # Directory where the checkpoints will be saved\n",
    "    filename=\"resnet34_model-{epoch:02d}-{val_loss:.2f}\",  # Filename template for the saved checkpoints\n",
    "    save_top_k=1,  # Save only the best model (with the lowest validation loss)\n",
    "    mode=\"min\"  # Mode to determine the best model; 'min' means lower validation loss is better\n",
    ")\n",
    "\n",
    "# Initialize the trainer, which is responsible for handling the training process\n",
    "trainer = L.Trainer(\n",
    "    max_epochs=10,  # Train the model for a maximum of 10 epochs\n",
    "    accelerator='auto',  # Automatically select the best available hardware (CPU or GPU)\n",
    "    devices=1,  # Use 1 device (e.g., 1 GPUs) for training\n",
    "    precision=16,  # Use 16-bit precision for faster training and reduced memory usage\n",
    "    callbacks=[checkpoint_callback]  # Add the checkpoint callback to save the best model during training\n",
    ")"
   ]
  },
  {
   "cell_type": "code",
   "execution_count": 15,
   "metadata": {},
   "outputs": [
    {
     "name": "stderr",
     "output_type": "stream",
     "text": [
      "You are using a CUDA device ('NVIDIA GeForce RTX 3090') that has Tensor Cores. To properly utilize them, you should set `torch.set_float32_matmul_precision('medium' | 'high')` which will trade-off precision for performance. For more details, read https://pytorch.org/docs/stable/generated/torch.set_float32_matmul_precision.html#torch.set_float32_matmul_precision\n",
      "/home/jacob/miniforge3/envs/dell/lib/python3.12/site-packages/lightning/pytorch/callbacks/model_checkpoint.py:652: Checkpoint directory /media/nas-elias/drive/UFRN/Disciplinas/2024-2/Dell Deep Learning and Gen-AI/checkpoints exists and is not empty.\n",
      "LOCAL_RANK: 0 - CUDA_VISIBLE_DEVICES: [0,1]\n",
      "\n",
      "  | Name     | Type           | Params | Mode \n",
      "----------------------------------------------------\n",
      "0 | resnet34 | ResNet         | 21.3 M | train\n",
      "1 | accuracy | BinaryAccuracy | 0      | train\n",
      "----------------------------------------------------\n",
      "21.3 M    Trainable params\n",
      "0         Non-trainable params\n",
      "21.3 M    Total params\n",
      "85.143    Total estimated model params size (MB)\n"
     ]
    },
    {
     "data": {
      "application/vnd.jupyter.widget-view+json": {
       "model_id": "8133a93c23544ac584be450865d01a14",
       "version_major": 2,
       "version_minor": 0
      },
      "text/plain": [
       "Sanity Checking: |          | 0/? [00:00<?, ?it/s]"
      ]
     },
     "metadata": {},
     "output_type": "display_data"
    },
    {
     "name": "stderr",
     "output_type": "stream",
     "text": [
      "/home/jacob/miniforge3/envs/dell/lib/python3.12/site-packages/lightning/pytorch/trainer/connectors/data_connector.py:424: The 'val_dataloader' does not have many workers which may be a bottleneck. Consider increasing the value of the `num_workers` argument` to `num_workers=47` in the `DataLoader` to improve performance.\n",
      "/home/jacob/miniforge3/envs/dell/lib/python3.12/site-packages/lightning/pytorch/trainer/connectors/data_connector.py:424: The 'train_dataloader' does not have many workers which may be a bottleneck. Consider increasing the value of the `num_workers` argument` to `num_workers=47` in the `DataLoader` to improve performance.\n"
     ]
    },
    {
     "data": {
      "application/vnd.jupyter.widget-view+json": {
       "model_id": "0ba94044592b439587c2472ec05de771",
       "version_major": 2,
       "version_minor": 0
      },
      "text/plain": [
       "Training: |          | 0/? [00:00<?, ?it/s]"
      ]
     },
     "metadata": {},
     "output_type": "display_data"
    },
    {
     "name": "stderr",
     "output_type": "stream",
     "text": [
      "/home/jacob/miniforge3/envs/dell/lib/python3.12/site-packages/PIL/TiffImagePlugin.py:900: UserWarning: Truncated File Read\n",
      "  warnings.warn(str(msg))\n"
     ]
    },
    {
     "data": {
      "application/vnd.jupyter.widget-view+json": {
       "model_id": "59c58e9070074e4b970b26292ee16235",
       "version_major": 2,
       "version_minor": 0
      },
      "text/plain": [
       "Validation: |          | 0/? [00:00<?, ?it/s]"
      ]
     },
     "metadata": {},
     "output_type": "display_data"
    },
    {
     "name": "stderr",
     "output_type": "stream",
     "text": [
      "/home/jacob/miniforge3/envs/dell/lib/python3.12/site-packages/PIL/TiffImagePlugin.py:900: UserWarning: Truncated File Read\n",
      "  warnings.warn(str(msg))\n"
     ]
    },
    {
     "data": {
      "application/vnd.jupyter.widget-view+json": {
       "model_id": "466fda3f85924ebb8910e79ba8a91ee9",
       "version_major": 2,
       "version_minor": 0
      },
      "text/plain": [
       "Validation: |          | 0/? [00:00<?, ?it/s]"
      ]
     },
     "metadata": {},
     "output_type": "display_data"
    },
    {
     "name": "stderr",
     "output_type": "stream",
     "text": [
      "/home/jacob/miniforge3/envs/dell/lib/python3.12/site-packages/PIL/TiffImagePlugin.py:900: UserWarning: Truncated File Read\n",
      "  warnings.warn(str(msg))\n"
     ]
    },
    {
     "data": {
      "application/vnd.jupyter.widget-view+json": {
       "model_id": "4b20355cda824daab4bd610033f95fdc",
       "version_major": 2,
       "version_minor": 0
      },
      "text/plain": [
       "Validation: |          | 0/? [00:00<?, ?it/s]"
      ]
     },
     "metadata": {},
     "output_type": "display_data"
    },
    {
     "name": "stderr",
     "output_type": "stream",
     "text": [
      "/home/jacob/miniforge3/envs/dell/lib/python3.12/site-packages/PIL/TiffImagePlugin.py:900: UserWarning: Truncated File Read\n",
      "  warnings.warn(str(msg))\n"
     ]
    },
    {
     "data": {
      "application/vnd.jupyter.widget-view+json": {
       "model_id": "fc89fc1db81d45e9a60a142100f8eef2",
       "version_major": 2,
       "version_minor": 0
      },
      "text/plain": [
       "Validation: |          | 0/? [00:00<?, ?it/s]"
      ]
     },
     "metadata": {},
     "output_type": "display_data"
    },
    {
     "name": "stderr",
     "output_type": "stream",
     "text": [
      "/home/jacob/miniforge3/envs/dell/lib/python3.12/site-packages/PIL/TiffImagePlugin.py:900: UserWarning: Truncated File Read\n",
      "  warnings.warn(str(msg))\n"
     ]
    },
    {
     "data": {
      "application/vnd.jupyter.widget-view+json": {
       "model_id": "8d64c9e428124d0b9516878a37394124",
       "version_major": 2,
       "version_minor": 0
      },
      "text/plain": [
       "Validation: |          | 0/? [00:00<?, ?it/s]"
      ]
     },
     "metadata": {},
     "output_type": "display_data"
    },
    {
     "name": "stderr",
     "output_type": "stream",
     "text": [
      "/home/jacob/miniforge3/envs/dell/lib/python3.12/site-packages/PIL/TiffImagePlugin.py:900: UserWarning: Truncated File Read\n",
      "  warnings.warn(str(msg))\n"
     ]
    },
    {
     "data": {
      "application/vnd.jupyter.widget-view+json": {
       "model_id": "8f13df50488647f7821af235abd9a286",
       "version_major": 2,
       "version_minor": 0
      },
      "text/plain": [
       "Validation: |          | 0/? [00:00<?, ?it/s]"
      ]
     },
     "metadata": {},
     "output_type": "display_data"
    },
    {
     "name": "stderr",
     "output_type": "stream",
     "text": [
      "/home/jacob/miniforge3/envs/dell/lib/python3.12/site-packages/PIL/TiffImagePlugin.py:900: UserWarning: Truncated File Read\n",
      "  warnings.warn(str(msg))\n"
     ]
    },
    {
     "data": {
      "application/vnd.jupyter.widget-view+json": {
       "model_id": "7bc7c0b4d4b0455c9fa8f0ea75c711ff",
       "version_major": 2,
       "version_minor": 0
      },
      "text/plain": [
       "Validation: |          | 0/? [00:00<?, ?it/s]"
      ]
     },
     "metadata": {},
     "output_type": "display_data"
    },
    {
     "name": "stderr",
     "output_type": "stream",
     "text": [
      "/home/jacob/miniforge3/envs/dell/lib/python3.12/site-packages/PIL/TiffImagePlugin.py:900: UserWarning: Truncated File Read\n",
      "  warnings.warn(str(msg))\n"
     ]
    },
    {
     "data": {
      "application/vnd.jupyter.widget-view+json": {
       "model_id": "fe196489e730417391d118328dd2e8d0",
       "version_major": 2,
       "version_minor": 0
      },
      "text/plain": [
       "Validation: |          | 0/? [00:00<?, ?it/s]"
      ]
     },
     "metadata": {},
     "output_type": "display_data"
    },
    {
     "name": "stderr",
     "output_type": "stream",
     "text": [
      "/home/jacob/miniforge3/envs/dell/lib/python3.12/site-packages/PIL/TiffImagePlugin.py:900: UserWarning: Truncated File Read\n",
      "  warnings.warn(str(msg))\n"
     ]
    },
    {
     "data": {
      "application/vnd.jupyter.widget-view+json": {
       "model_id": "00f048199ebe4d6daa3323db8d1cc6ce",
       "version_major": 2,
       "version_minor": 0
      },
      "text/plain": [
       "Validation: |          | 0/? [00:00<?, ?it/s]"
      ]
     },
     "metadata": {},
     "output_type": "display_data"
    },
    {
     "name": "stderr",
     "output_type": "stream",
     "text": [
      "/home/jacob/miniforge3/envs/dell/lib/python3.12/site-packages/PIL/TiffImagePlugin.py:900: UserWarning: Truncated File Read\n",
      "  warnings.warn(str(msg))\n"
     ]
    },
    {
     "data": {
      "application/vnd.jupyter.widget-view+json": {
       "model_id": "33d9db4281ef443c97addbe4db7fa86c",
       "version_major": 2,
       "version_minor": 0
      },
      "text/plain": [
       "Validation: |          | 0/? [00:00<?, ?it/s]"
      ]
     },
     "metadata": {},
     "output_type": "display_data"
    },
    {
     "name": "stderr",
     "output_type": "stream",
     "text": [
      "`Trainer.fit` stopped: `max_epochs=10` reached.\n"
     ]
    }
   ],
   "source": [
    "# Train the model\n",
    "trainer.fit(resnet34_model, dm)"
   ]
  },
  {
   "cell_type": "code",
   "execution_count": 16,
   "metadata": {},
   "outputs": [
    {
     "name": "stdout",
     "output_type": "stream",
     "text": [
      "Best model path: /media/nas-elias/drive/UFRN/Disciplinas/2024-2/Dell Deep Learning and Gen-AI/checkpoints/resnet34_model-epoch=06-val_loss=0.20.ckpt\n"
     ]
    }
   ],
   "source": [
    "print(f'Best model path: {checkpoint_callback.best_model_path}')"
   ]
  },
  {
   "cell_type": "code",
   "execution_count": 17,
   "metadata": {},
   "outputs": [
    {
     "name": "stderr",
     "output_type": "stream",
     "text": [
      "/home/jacob/miniforge3/envs/dell/lib/python3.12/site-packages/lightning/fabric/utilities/cloud_io.py:57: You are using `torch.load` with `weights_only=False` (the current default value), which uses the default pickle module implicitly. It is possible to construct malicious pickle data which will execute arbitrary code during unpickling (See https://github.com/pytorch/pytorch/blob/main/SECURITY.md#untrusted-models for more details). In a future release, the default value for `weights_only` will be flipped to `True`. This limits the functions that could be executed during unpickling. Arbitrary objects will no longer be allowed to be loaded via this mode unless they are explicitly allowlisted by the user via `torch.serialization.add_safe_globals`. We recommend you start setting `weights_only=True` for any use case where you don't have full control of the loaded file. Please open an issue on GitHub for any issues related to this experimental feature.\n",
      "GPU available: True (cuda), used: False\n",
      "TPU available: False, using: 0 TPU cores\n",
      "HPU available: False, using: 0 HPUs\n",
      "/home/jacob/miniforge3/envs/dell/lib/python3.12/site-packages/lightning/pytorch/trainer/setup.py:177: GPU available but not used. You can set it by doing `Trainer(accelerator='gpu')`.\n"
     ]
    },
    {
     "data": {
      "application/vnd.jupyter.widget-view+json": {
       "model_id": "24fe0de13c124ced9517bdd01931e2fc",
       "version_major": 2,
       "version_minor": 0
      },
      "text/plain": [
       "Testing: |          | 0/? [00:00<?, ?it/s]"
      ]
     },
     "metadata": {},
     "output_type": "display_data"
    },
    {
     "data": {
      "text/html": [
       "<pre style=\"white-space:pre;overflow-x:auto;line-height:normal;font-family:Menlo,'DejaVu Sans Mono',consolas,'Courier New',monospace\">┏━━━━━━━━━━━━━━━━━━━━━━━━━━━┳━━━━━━━━━━━━━━━━━━━━━━━━━━━┓\n",
       "┃<span style=\"font-weight: bold\">        Test metric        </span>┃<span style=\"font-weight: bold\">       DataLoader 0        </span>┃\n",
       "┡━━━━━━━━━━━━━━━━━━━━━━━━━━━╇━━━━━━━━━━━━━━━━━━━━━━━━━━━┩\n",
       "│<span style=\"color: #008080; text-decoration-color: #008080\">         test_acc          </span>│<span style=\"color: #800080; text-decoration-color: #800080\">    0.9297752976417542     </span>│\n",
       "│<span style=\"color: #008080; text-decoration-color: #008080\">         test_loss         </span>│<span style=\"color: #800080; text-decoration-color: #800080\">    0.16893933713436127    </span>│\n",
       "└───────────────────────────┴───────────────────────────┘\n",
       "</pre>\n"
      ],
      "text/plain": [
       "┏━━━━━━━━━━━━━━━━━━━━━━━━━━━┳━━━━━━━━━━━━━━━━━━━━━━━━━━━┓\n",
       "┃\u001b[1m \u001b[0m\u001b[1m       Test metric       \u001b[0m\u001b[1m \u001b[0m┃\u001b[1m \u001b[0m\u001b[1m      DataLoader 0       \u001b[0m\u001b[1m \u001b[0m┃\n",
       "┡━━━━━━━━━━━━━━━━━━━━━━━━━━━╇━━━━━━━━━━━━━━━━━━━━━━━━━━━┩\n",
       "│\u001b[36m \u001b[0m\u001b[36m        test_acc         \u001b[0m\u001b[36m \u001b[0m│\u001b[35m \u001b[0m\u001b[35m   0.9297752976417542    \u001b[0m\u001b[35m \u001b[0m│\n",
       "│\u001b[36m \u001b[0m\u001b[36m        test_loss        \u001b[0m\u001b[36m \u001b[0m│\u001b[35m \u001b[0m\u001b[35m   0.16893933713436127   \u001b[0m\u001b[35m \u001b[0m│\n",
       "└───────────────────────────┴───────────────────────────┘\n"
      ]
     },
     "metadata": {},
     "output_type": "display_data"
    },
    {
     "data": {
      "text/plain": [
       "[{'test_loss': 0.16893933713436127, 'test_acc': 0.9297752976417542}]"
      ]
     },
     "execution_count": 17,
     "metadata": {},
     "output_type": "execute_result"
    }
   ],
   "source": [
    "# Reload the best model from the checkpoint\n",
    "# This loads the model with the lowest validation loss saved during training\n",
    "# checkpoint_callback.best_model_path contains the path to the best model checkpoint\n",
    "best_model = ResNet34Model.load_from_checkpoint(checkpoint_callback.best_model_path)\n",
    "\n",
    "# Initialize a new trainer for inference or further evaluation\n",
    "new_trainer = L.Trainer(\n",
    "    accelerator='cpu',  # Use CPU for inference\n",
    "    callbacks=[checkpoint_callback]  # Include the checkpoint callback\n",
    ")\n",
    "\n",
    "# Evaluate the best model on the test dataset using the new trainer\n",
    "# best_model is the model loaded from the checkpoint with the lowest validation loss\n",
    "# dm is the data module that provides the test dataset\n",
    "# This will run the test method to compute metrics such as accuracy and loss on the test set\n",
    "# The results will help us understand how well the model generalizes to unseen data\n",
    "new_trainer.test(best_model, datamodule=dm)"
   ]
  },
  {
   "cell_type": "code",
   "execution_count": 18,
   "metadata": {},
   "outputs": [
    {
     "name": "stdout",
     "output_type": "stream",
     "text": [
      "The model has 21,285,698 trainable parameters\n"
     ]
    }
   ],
   "source": [
    "def count_parameters(model):\n",
    "    # Calculate the total number of trainable parameters in the model\n",
    "    # p.numel() returns the number of elements in the parameter tensor\n",
    "    # p.requires_grad checks if the parameter requires gradient computation (i.e., it is trainable)\n",
    "    return sum(p.numel() for p in model.parameters() if p.requires_grad)\n",
    "\n",
    "# Print the total number of trainable parameters in the best_model\n",
    "# count_parameters(best_model) returns the count of trainable parameters\n",
    "# :, in the format string adds commas as thousand separators for better readability\n",
    "print(f\"The model has {count_parameters(best_model):,} trainable parameters\")"
   ]
  },
  {
   "cell_type": "markdown",
   "metadata": {},
   "source": [
    "> <br>\n",
    ">\n",
    "> - Our fully connected model had 70,260,738 trainable parameters and accuracy was around 60%\n",
    "> - Our simple CNN model had 33,579,554 trainable parameters and accuracy improved to 79%\n",
    "> - Our ResNet-34 model has 21,285,698 trainable parameters and accuracy improved to around 90%\n",
    ">\n",
    "> As you can see, the number of trainable parameters is decreasing while the accuracy is increasing. This is why ResNet is so powerful and widely used in image recognition tasks."
   ]
  },
  {
   "cell_type": "markdown",
   "metadata": {},
   "source": [
    "# Data Augmentation\n",
    "\n",
    "Data augmentation is a powerful method used to artificially increase the size of a dataset by applying various transformations to the existing data. This technique is particularly beneficial when working with image data, contributing significantly to improved model performance and generalization.\n",
    "\n",
    "In this part of our course, we will explore:\n",
    "\n",
    "- The significance of data augmentation in deep learning.\n",
    "- Common data augmentation techniques for image data.\n",
    "- Implementing data augmentation using PyTorch and the `torchvision` library."
   ]
  },
  {
   "cell_type": "markdown",
   "metadata": {},
   "source": [
    "## Why Data Augmentation?\n",
    "\n",
    "1. **Increased Dataset Size:** By transforming the existing data in multiple ways, we can effectively enlarge our dataset. This helps the model to better learn and generalize from more varied examples.\n",
    "\n",
    "2. **Improved Model Robustness:** Data augmentation introduces variations such as changes in lighting, orientation, or scale, making the model more adept at handling these variations in real-world data.\n",
    "\n",
    "3. **Regularization:** Introducing noise and variability through data augmentation acts similarly to regularization techniques, mitigating overfitting and improving the model's predictive power."
   ]
  },
  {
   "cell_type": "markdown",
   "metadata": {},
   "source": [
    "## Common Data Augmentation Techniques\n",
    "\n",
    "Several techniques are commonly used to increase image data:\n",
    "\n",
    "1. **Flipping:** Horizontally or vertically flipping images to provide different perspectives.\n",
    "2. **Rotation:** Rotating images by specific angles to simulate different orientations.\n",
    "3. **Scaling:** Resizing images either by zooming in or out to include variations in size.\n",
    "4. **Translation:** Shifting images horizontally or vertically to mimic slight positional changes.\n",
    "5. **Brightness Adjustment:** Modifying the brightness levels to account for lighting differences.\n",
    "6. **Contrast Adjustment:** Changing the contrast to highlight or diminish features.\n",
    "7. **Noise Addition:** Adding random noise which can help the model learn to ignore minor distortions or artifacts.\n",
    "\n",
    "These techniques can be combined in numerous ways to generate a diverse and expansive training dataset without needing additional labeled data."
   ]
  },
  {
   "cell_type": "markdown",
   "metadata": {},
   "source": [
    "## Implementing Data Augmentation in PyTorch\n",
    "\n",
    "Using PyTorch, data augmentation is conveniently implemented with the `torchvision` library. This library offers an extensive range of built-in transformations tailored for image data. These transformations can be applied to your training data by using `transforms.v2.Compose`, which allows chaining together multiple augmentations seamlessly.\n",
    "\n",
    "- It's crucial not to apply data augmentation to the test dataset since the intention is to evaluate the model's performance on the original, unmodified images. An advanced technique called Test Time Augmentation (TTA) exists where augmentations are applied to test data during inference, aiming to enhance model performance. While TTA is beyond the scope of this course, it's worth noting for future exploration.\n",
    "\n",
    "By understanding and implementing these techniques, you can greatly improve the robustness and effectiveness of your deep learning models, particularly when dealing with image data."
   ]
  },
  {
   "cell_type": "markdown",
   "metadata": {},
   "source": [
    "## Training Data Augmentation vs Test Data Augmentation\n",
    "\n",
    "### Training Data Augmentation\n",
    "\n",
    "- Typically, data augmentation is applied solely to the training data. This approach enhances the diversity of the training set and improves the model's toughness and ability to generalize to new, unseen examples.\n",
    "\n",
    "### Test Data Augmentation\n",
    "\n",
    "- It's crucial not to apply data augmentation to the test dataset since the intention is to evaluate the model's performance on the original, unmodified images. There's an advanced technique called [Test Time Augmentation (TTA)](https://arxiv.org/abs/2402.06892), where augmentations are applied to test data during inference, aiming to enhance model performance. While TTA is beyond the scope of this course, it's worth noting for future exploration."
   ]
  },
  {
   "cell_type": "markdown",
   "metadata": {},
   "source": [
    "## Choosing the Right Augmentation Techniques\n",
    "\n",
    "Selecting the appropriate augmentation techniques is crucial for improving the performance and robustness of your model. Here are some key factors to consider:\n",
    "\n",
    "### 1. Domain Knowledge\n",
    "- **Understand Your Dataset:** Analyze the nature of your data to identify suitable transformations. For instance, with images of handwritten digits, rotating them might not be as effective as flipping or scaling.\n",
    "- **Context-Specific Transformations:** Some transformations are more applicable to specific domains. For example, color adjustments might be more relevant for natural images than for medical imaging.\n",
    "\n",
    "### 2. Task Requirements\n",
    "- **Alignment with Objectives:** Ensure that the augmentation techniques align with the specific task you are working on. For example, in object detection tasks, horizontal flipping might disorient objects and hinder the model's learning.\n",
    "- **Preserving Essential Features:** Be cautious not to apply transformations that could distort critical features necessary for accurate predictions. For instance, in facial recognition, excessive rotation might obscure key facial landmarks.\n",
    "\n",
    "### 3. Computational Resources\n",
    "- **Resource Efficiency:** Some augmentation techniques require significant computational power. Consider your available resources and choose transformations that balance effectiveness with feasibility.\n",
    "- **Real-Time Processing:** If your application demands real-time processing, opt for less computationally intensive augmentations to avoid latency issues.\n",
    "\n",
    "### 4. Model Performance\n",
    "- **Experimentation and Tuning:** Finding the optimal augmentation techniques often involves experimentation. Test different transformations and combinations to see which ones yield the best improvements in model performance.\n",
    "- **Monitoring Overfitting:** Use techniques like cross-validation to monitor if certain augmentations help prevent overfitting by introducing variability to the training data.\n",
    "\n",
    "By thoughtfully selecting and applying augmentation techniques based on these factors, you can significantly enhance your model's performance, robustness, and generalization capabilities. This leads to more accurate predictions on unseen data and better overall outcomes for your machine learning projects."
   ]
  },
  {
   "cell_type": "code",
   "execution_count": 19,
   "metadata": {},
   "outputs": [],
   "source": [
    "# Define the image size to which all images will be resized\n",
    "img_size = 256\n",
    "\n",
    "# Create a list of transformations for training data\n",
    "transforms_train_list = [\n",
    "    torchvision.transforms.v2.ToImage(),  # Convert input to an image\n",
    "    torchvision.transforms.v2.ToDtype(torch.uint8, scale=True),  # Convert image to uint8 and scale for better performance\n",
    "    torchvision.transforms.v2.Resize(size=(img_size, img_size), antialias=True),  # Resize image to 256x256 with antialiasing to reduce distortion\n",
    "    torchvision.transforms.v2.RandomHorizontalFlip(p=0.5),  # Randomly flip the image horizontally with a probability of 0.5\n",
    "    torchvision.transforms.v2.ColorJitter(brightness=0.1, contrast=0.1, saturation=0.1, hue=0.1),  # Randomly change brightness, contrast, saturation, and hue\n",
    "    torchvision.transforms.v2.ToDtype(torch.float32, scale=True),  # Convert image to float32 and scale\n",
    "    torchvision.transforms.v2.Normalize(mean=[0.485, 0.456, 0.406], std=[0.229, 0.224, 0.225])  # Normalize image using mean and std of ImageNet for compatibility with pre-trained models\n",
    "]\n",
    "\n",
    "# Create a list of transformations for validation/test data\n",
    "# Note: No random transformations like flips or color jitter are applied to validation data\n",
    "transforms_valid_list = [\n",
    "    torchvision.transforms.v2.ToImage(),  # Convert input to an image\n",
    "    torchvision.transforms.v2.ToDtype(torch.uint8, scale=True),  # Convert image to uint8 and scale for better performance\n",
    "    torchvision.transforms.v2.Resize(size=(img_size, img_size), antialias=True),  # Resize image to 256x256 with antialiasing to reduce distortion\n",
    "    torchvision.transforms.v2.ToDtype(torch.float32, scale=True),  # Convert image to float32 and scale\n",
    "    torchvision.transforms.v2.Normalize(mean=[0.485, 0.456, 0.406], std=[0.229, 0.224, 0.225])  # Normalize image using mean and std of ImageNet for compatibility with pre-trained models\n",
    "]\n",
    "\n",
    "# Compose the list of transformations into a single transform for training data\n",
    "transforms_train = torchvision.transforms.v2.Compose(transforms_train_list)\n",
    "\n",
    "# Compose the list of transformations into a single transform for validation/test data\n",
    "transforms_valid = torchvision.transforms.v2.Compose(transforms_valid_list)"
   ]
  },
  {
   "cell_type": "markdown",
   "metadata": {},
   "source": [
    "> For more transforms, please check [PyTorch documentation](https://pytorch.org/vision/main/transforms.html#v2-api-reference-recommended)\n",
    ">\n",
    "> For viewing how these transforms affect the images, please check [these examples](https://pytorch.org/vision/main/auto_examples/transforms/plot_transforms_illustrations.html)"
   ]
  },
  {
   "cell_type": "code",
   "execution_count": 20,
   "metadata": {},
   "outputs": [],
   "source": [
    "import lightning as L\n",
    "from torch.utils.data import DataLoader\n",
    "from typing import Optional\n",
    "\n",
    "class DogsCatsDataModuleV2(L.LightningDataModule):\n",
    "    def __init__(self, batch_size: int = 128, num_workers: int = 1):\n",
    "        \"\"\"\n",
    "        Initialize the DogsCatsDataModuleV2.\n",
    "        \n",
    "        This class manages the data loading process for our Dogs vs Cats dataset.\n",
    "        It handles the creation of train, validation, and test datasets,\n",
    "        as well as their respective DataLoaders.\n",
    "        \"\"\"\n",
    "        super().__init__()\n",
    "        self.batch_size = batch_size\n",
    "        self.num_workers = num_workers\n",
    "\n",
    "    def setup(self, stage: Optional[str] = None) -> None:\n",
    "        \"\"\"\n",
    "        Set up the datasets for training, validation, and testing.\n",
    "        \n",
    "        This method is called by PyTorch Lightning to create the datasets.\n",
    "        We use different transforms for training and validation/testing.\n",
    "        \"\"\"\n",
    "        # Create training dataset with augmentation transforms\n",
    "        self.train_dataset = DogsCatsDataset(\n",
    "            root_dir=\"data/dogs-vs-cats/train\",\n",
    "            transform=transforms_train  # These transforms include data augmentation\n",
    "        )\n",
    "        \n",
    "        # Create validation dataset with only normalization transforms\n",
    "        self.validation_dataset = DogsCatsDataset(\n",
    "            root_dir=\"data/dogs-vs-cats/valid\",\n",
    "            transform=transforms_valid  # These transforms only include normalization\n",
    "        )\n",
    "        \n",
    "        # Create test dataset with the same transforms as validation\n",
    "        self.test_dataset = DogsCatsDataset(\n",
    "            root_dir=\"data/dogs-vs-cats/test\",\n",
    "            transform=transforms_valid  # Using the same transforms as validation\n",
    "        )\n",
    "        \n",
    "    def train_dataloader(self) -> DataLoader:\n",
    "        \"\"\"\n",
    "        Create and return the DataLoader for the training dataset.\n",
    "        \n",
    "        We shuffle the training data to ensure random order in each epoch.\n",
    "        \"\"\"\n",
    "        return DataLoader(self.train_dataset, batch_size=self.batch_size, \n",
    "                          shuffle=True, num_workers=self.num_workers)\n",
    "    \n",
    "    def val_dataloader(self) -> DataLoader:\n",
    "        \"\"\"\n",
    "        Create and return the DataLoader for the validation dataset.\n",
    "        \n",
    "        We don't shuffle validation data as the order doesn't matter.\n",
    "        \"\"\"\n",
    "        return DataLoader(self.validation_dataset, batch_size=self.batch_size, \n",
    "                          shuffle=False, num_workers=self.num_workers)\n",
    "    \n",
    "    def test_dataloader(self) -> DataLoader:\n",
    "        \"\"\"\n",
    "        Create and return the DataLoader for the test dataset.\n",
    "        \n",
    "        Similar to validation, we don't shuffle test data.\n",
    "        \"\"\"\n",
    "        return DataLoader(self.test_dataset, batch_size=self.batch_size, \n",
    "                          shuffle=False, num_workers=self.num_workers)"
   ]
  },
  {
   "cell_type": "code",
   "execution_count": 21,
   "metadata": {},
   "outputs": [
    {
     "name": "stderr",
     "output_type": "stream",
     "text": [
      "Using 16bit Automatic Mixed Precision (AMP)\n",
      "GPU available: True (cuda), used: True\n",
      "TPU available: False, using: 0 TPU cores\n",
      "HPU available: False, using: 0 HPUs\n",
      "LOCAL_RANK: 0 - CUDA_VISIBLE_DEVICES: [0,1]\n",
      "\n",
      "  | Name     | Type           | Params | Mode \n",
      "----------------------------------------------------\n",
      "0 | resnet34 | ResNet         | 21.3 M | train\n",
      "1 | accuracy | BinaryAccuracy | 0      | train\n",
      "----------------------------------------------------\n",
      "21.3 M    Trainable params\n",
      "0         Non-trainable params\n",
      "21.3 M    Total params\n",
      "85.143    Total estimated model params size (MB)\n"
     ]
    },
    {
     "data": {
      "application/vnd.jupyter.widget-view+json": {
       "model_id": "0f3b6b858bd9477798c1e174c2a70d86",
       "version_major": 2,
       "version_minor": 0
      },
      "text/plain": [
       "Sanity Checking: |          | 0/? [00:00<?, ?it/s]"
      ]
     },
     "metadata": {},
     "output_type": "display_data"
    },
    {
     "data": {
      "application/vnd.jupyter.widget-view+json": {
       "model_id": "d52df451f24448169ab7de4919c4c55e",
       "version_major": 2,
       "version_minor": 0
      },
      "text/plain": [
       "Training: |          | 0/? [00:00<?, ?it/s]"
      ]
     },
     "metadata": {},
     "output_type": "display_data"
    },
    {
     "name": "stderr",
     "output_type": "stream",
     "text": [
      "/home/jacob/miniforge3/envs/dell/lib/python3.12/site-packages/PIL/TiffImagePlugin.py:900: UserWarning: Truncated File Read\n",
      "  warnings.warn(str(msg))\n"
     ]
    },
    {
     "data": {
      "application/vnd.jupyter.widget-view+json": {
       "model_id": "5896825b39a24420a8af0efa6dbac02d",
       "version_major": 2,
       "version_minor": 0
      },
      "text/plain": [
       "Validation: |          | 0/? [00:00<?, ?it/s]"
      ]
     },
     "metadata": {},
     "output_type": "display_data"
    },
    {
     "name": "stderr",
     "output_type": "stream",
     "text": [
      "/home/jacob/miniforge3/envs/dell/lib/python3.12/site-packages/PIL/TiffImagePlugin.py:900: UserWarning: Truncated File Read\n",
      "  warnings.warn(str(msg))\n"
     ]
    },
    {
     "data": {
      "application/vnd.jupyter.widget-view+json": {
       "model_id": "362322e2dc3b44f486ade9096c2fc4d9",
       "version_major": 2,
       "version_minor": 0
      },
      "text/plain": [
       "Validation: |          | 0/? [00:00<?, ?it/s]"
      ]
     },
     "metadata": {},
     "output_type": "display_data"
    },
    {
     "name": "stderr",
     "output_type": "stream",
     "text": [
      "/home/jacob/miniforge3/envs/dell/lib/python3.12/site-packages/PIL/TiffImagePlugin.py:900: UserWarning: Truncated File Read\n",
      "  warnings.warn(str(msg))\n"
     ]
    },
    {
     "data": {
      "application/vnd.jupyter.widget-view+json": {
       "model_id": "f0c9d2b1bede41d0b15d3b30fb3c5a6f",
       "version_major": 2,
       "version_minor": 0
      },
      "text/plain": [
       "Validation: |          | 0/? [00:00<?, ?it/s]"
      ]
     },
     "metadata": {},
     "output_type": "display_data"
    },
    {
     "name": "stderr",
     "output_type": "stream",
     "text": [
      "/home/jacob/miniforge3/envs/dell/lib/python3.12/site-packages/PIL/TiffImagePlugin.py:900: UserWarning: Truncated File Read\n",
      "  warnings.warn(str(msg))\n"
     ]
    },
    {
     "data": {
      "application/vnd.jupyter.widget-view+json": {
       "model_id": "83501c7e842445fcbd745bf247b0387a",
       "version_major": 2,
       "version_minor": 0
      },
      "text/plain": [
       "Validation: |          | 0/? [00:00<?, ?it/s]"
      ]
     },
     "metadata": {},
     "output_type": "display_data"
    },
    {
     "name": "stderr",
     "output_type": "stream",
     "text": [
      "/home/jacob/miniforge3/envs/dell/lib/python3.12/site-packages/PIL/TiffImagePlugin.py:900: UserWarning: Truncated File Read\n",
      "  warnings.warn(str(msg))\n"
     ]
    },
    {
     "data": {
      "application/vnd.jupyter.widget-view+json": {
       "model_id": "8c35bc1c0e6a4e19947d0d6483901296",
       "version_major": 2,
       "version_minor": 0
      },
      "text/plain": [
       "Validation: |          | 0/? [00:00<?, ?it/s]"
      ]
     },
     "metadata": {},
     "output_type": "display_data"
    },
    {
     "name": "stderr",
     "output_type": "stream",
     "text": [
      "/home/jacob/miniforge3/envs/dell/lib/python3.12/site-packages/PIL/TiffImagePlugin.py:900: UserWarning: Truncated File Read\n",
      "  warnings.warn(str(msg))\n"
     ]
    },
    {
     "data": {
      "application/vnd.jupyter.widget-view+json": {
       "model_id": "6ae95e5ca26d445fb13ff4cf3429ce21",
       "version_major": 2,
       "version_minor": 0
      },
      "text/plain": [
       "Validation: |          | 0/? [00:00<?, ?it/s]"
      ]
     },
     "metadata": {},
     "output_type": "display_data"
    },
    {
     "name": "stderr",
     "output_type": "stream",
     "text": [
      "/home/jacob/miniforge3/envs/dell/lib/python3.12/site-packages/PIL/TiffImagePlugin.py:900: UserWarning: Truncated File Read\n",
      "  warnings.warn(str(msg))\n"
     ]
    },
    {
     "data": {
      "application/vnd.jupyter.widget-view+json": {
       "model_id": "a89490d6949c4420aa295e462ec0b5a2",
       "version_major": 2,
       "version_minor": 0
      },
      "text/plain": [
       "Validation: |          | 0/? [00:00<?, ?it/s]"
      ]
     },
     "metadata": {},
     "output_type": "display_data"
    },
    {
     "name": "stderr",
     "output_type": "stream",
     "text": [
      "/home/jacob/miniforge3/envs/dell/lib/python3.12/site-packages/PIL/TiffImagePlugin.py:900: UserWarning: Truncated File Read\n",
      "  warnings.warn(str(msg))\n"
     ]
    },
    {
     "data": {
      "application/vnd.jupyter.widget-view+json": {
       "model_id": "a31c2ddb095549acaa511945cb8d3cfe",
       "version_major": 2,
       "version_minor": 0
      },
      "text/plain": [
       "Validation: |          | 0/? [00:00<?, ?it/s]"
      ]
     },
     "metadata": {},
     "output_type": "display_data"
    },
    {
     "name": "stderr",
     "output_type": "stream",
     "text": [
      "/home/jacob/miniforge3/envs/dell/lib/python3.12/site-packages/PIL/TiffImagePlugin.py:900: UserWarning: Truncated File Read\n",
      "  warnings.warn(str(msg))\n"
     ]
    },
    {
     "data": {
      "application/vnd.jupyter.widget-view+json": {
       "model_id": "3a62544fd82b459bb9539bebf971b835",
       "version_major": 2,
       "version_minor": 0
      },
      "text/plain": [
       "Validation: |          | 0/? [00:00<?, ?it/s]"
      ]
     },
     "metadata": {},
     "output_type": "display_data"
    },
    {
     "name": "stderr",
     "output_type": "stream",
     "text": [
      "/home/jacob/miniforge3/envs/dell/lib/python3.12/site-packages/PIL/TiffImagePlugin.py:900: UserWarning: Truncated File Read\n",
      "  warnings.warn(str(msg))\n"
     ]
    },
    {
     "data": {
      "application/vnd.jupyter.widget-view+json": {
       "model_id": "e7e2a3bc20d84495be583e946109e2cf",
       "version_major": 2,
       "version_minor": 0
      },
      "text/plain": [
       "Validation: |          | 0/? [00:00<?, ?it/s]"
      ]
     },
     "metadata": {},
     "output_type": "display_data"
    },
    {
     "name": "stderr",
     "output_type": "stream",
     "text": [
      "`Trainer.fit` stopped: `max_epochs=10` reached.\n"
     ]
    }
   ],
   "source": [
    "# Initialize the data module\n",
    "# batch_size=128 specifies the number of samples per batch\n",
    "# num_workers=24 specifies the number of subprocesses to use for data loading\n",
    "dm = DogsCatsDataModuleV2(batch_size=128, num_workers=24)\n",
    "\n",
    "# Initialize the model\n",
    "resnet34_model = ResNet34Model()\n",
    "\n",
    "# Initialize a checkpoint callback to save the model during training\n",
    "# This callback monitors the validation loss and saves the model with the lowest validation loss\n",
    "checkpoint_callback = L.pytorch.callbacks.ModelCheckpoint(\n",
    "    monitor=\"val_loss\",  # Metric to monitor for saving the best model\n",
    "    dirpath=\"checkpoints\",  # Directory where the checkpoints will be saved\n",
    "    filename=\"resnet34_model_data_aug-{epoch:02d}-{val_loss:.2f}\",  # Filename template for the saved checkpoints\n",
    "    save_top_k=1,  # Save only the best model (with the lowest validation loss)\n",
    "    mode=\"min\"  # Mode to determine the best model; 'min' means lower validation loss is better\n",
    ")  # Save the best model based on validation loss\n",
    "\n",
    "# Initialize the trainer, which is responsible for handling the training process\n",
    "trainer = L.Trainer(\n",
    "    max_epochs=10,  # Train the model for a maximum of 10 epochs\n",
    "    accelerator='auto',  # Automatically select the best available hardware (CPU or GPU)\n",
    "    devices=1,  # Use 1 device\n",
    "    precision=16,  # Use 16-bit precision for faster training and reduced memory usage\n",
    "    callbacks=[checkpoint_callback]  # Add the checkpoint callback to save the best model during training\n",
    ")\n",
    "\n",
    "# Train the model\n",
    "# trainer.fit starts the training process using the specified model and data module\n",
    "trainer.fit(resnet34_model, dm)"
   ]
  },
  {
   "cell_type": "code",
   "execution_count": 22,
   "metadata": {},
   "outputs": [
    {
     "name": "stdout",
     "output_type": "stream",
     "text": [
      "Best model path: /media/nas-elias/drive/UFRN/Disciplinas/2024-2/Dell Deep Learning and Gen-AI/checkpoints/resnet34_model_data_aug-epoch=04-val_loss=0.22.ckpt\n"
     ]
    }
   ],
   "source": [
    "print(f'Best model path: {checkpoint_callback.best_model_path}')"
   ]
  },
  {
   "cell_type": "code",
   "execution_count": 23,
   "metadata": {},
   "outputs": [
    {
     "name": "stderr",
     "output_type": "stream",
     "text": [
      "GPU available: True (cuda), used: False\n",
      "TPU available: False, using: 0 TPU cores\n",
      "HPU available: False, using: 0 HPUs\n"
     ]
    },
    {
     "data": {
      "application/vnd.jupyter.widget-view+json": {
       "model_id": "3510ea1571344b5fa2d519a1ba19539f",
       "version_major": 2,
       "version_minor": 0
      },
      "text/plain": [
       "Testing: |          | 0/? [00:00<?, ?it/s]"
      ]
     },
     "metadata": {},
     "output_type": "display_data"
    },
    {
     "data": {
      "text/html": [
       "<pre style=\"white-space:pre;overflow-x:auto;line-height:normal;font-family:Menlo,'DejaVu Sans Mono',consolas,'Courier New',monospace\">┏━━━━━━━━━━━━━━━━━━━━━━━━━━━┳━━━━━━━━━━━━━━━━━━━━━━━━━━━┓\n",
       "┃<span style=\"font-weight: bold\">        Test metric        </span>┃<span style=\"font-weight: bold\">       DataLoader 0        </span>┃\n",
       "┡━━━━━━━━━━━━━━━━━━━━━━━━━━━╇━━━━━━━━━━━━━━━━━━━━━━━━━━━┩\n",
       "│<span style=\"color: #008080; text-decoration-color: #008080\">         test_acc          </span>│<span style=\"color: #800080; text-decoration-color: #800080\">    0.9153290390968323     </span>│\n",
       "│<span style=\"color: #008080; text-decoration-color: #008080\">         test_loss         </span>│<span style=\"color: #800080; text-decoration-color: #800080\">    0.20538561046123505    </span>│\n",
       "└───────────────────────────┴───────────────────────────┘\n",
       "</pre>\n"
      ],
      "text/plain": [
       "┏━━━━━━━━━━━━━━━━━━━━━━━━━━━┳━━━━━━━━━━━━━━━━━━━━━━━━━━━┓\n",
       "┃\u001b[1m \u001b[0m\u001b[1m       Test metric       \u001b[0m\u001b[1m \u001b[0m┃\u001b[1m \u001b[0m\u001b[1m      DataLoader 0       \u001b[0m\u001b[1m \u001b[0m┃\n",
       "┡━━━━━━━━━━━━━━━━━━━━━━━━━━━╇━━━━━━━━━━━━━━━━━━━━━━━━━━━┩\n",
       "│\u001b[36m \u001b[0m\u001b[36m        test_acc         \u001b[0m\u001b[36m \u001b[0m│\u001b[35m \u001b[0m\u001b[35m   0.9153290390968323    \u001b[0m\u001b[35m \u001b[0m│\n",
       "│\u001b[36m \u001b[0m\u001b[36m        test_loss        \u001b[0m\u001b[36m \u001b[0m│\u001b[35m \u001b[0m\u001b[35m   0.20538561046123505   \u001b[0m\u001b[35m \u001b[0m│\n",
       "└───────────────────────────┴───────────────────────────┘\n"
      ]
     },
     "metadata": {},
     "output_type": "display_data"
    },
    {
     "data": {
      "text/plain": [
       "[{'test_loss': 0.20538561046123505, 'test_acc': 0.9153290390968323}]"
      ]
     },
     "execution_count": 23,
     "metadata": {},
     "output_type": "execute_result"
    }
   ],
   "source": [
    "# Reload the best model from the checkpoint\n",
    "# This loads the model with the lowest validation loss saved during training\n",
    "# checkpoint_callback.best_model_path contains the path to the best model checkpoint\n",
    "best_model = ResNet34Model.load_from_checkpoint(checkpoint_callback.best_model_path)\n",
    "\n",
    "# Initialize a new trainer for inference or further evaluation\n",
    "new_trainer = L.Trainer(\n",
    "    accelerator='cpu',  # Use CPU for inference\n",
    "    callbacks=[checkpoint_callback]  # Include the checkpoint callback\n",
    ")\n",
    "\n",
    "# Evaluate the best model on the test dataset using the new trainer\n",
    "# This will run the test method to compute metrics such as accuracy and loss on the test set\n",
    "# The results will help us understand how well the model generalizes to unseen data\n",
    "new_trainer.test(best_model, datamodule=dm)"
   ]
  },
  {
   "cell_type": "code",
   "execution_count": 24,
   "metadata": {},
   "outputs": [
    {
     "name": "stdout",
     "output_type": "stream",
     "text": [
      "The model has 21,285,698 trainable parameters\n"
     ]
    }
   ],
   "source": [
    "print(f\"The model has {count_parameters(best_model):,} trainable parameters\")"
   ]
  },
  {
   "cell_type": "markdown",
   "metadata": {},
   "source": [
    "> <br>\n",
    ">\n",
    "> - Our fully connected model had 70,260,738 trainable parameters and accuracy was around 60%\n",
    "> - Our simple CNN model had 33,579,554 trainable parameters and accuracy improved to 79%\n",
    "> - Our ResNet-34 model has 21,285,698 trainable parameters and accuracy improved to around 90%\n",
    "> - Our ResNet-34 model with data augmentation has the same number of trainable parameters and accuracy improved to around 92%.\n",
    ">\n",
    "> As you can see, the number of trainable parameters hasn't changed, but the accuracy has improved. **By using data augmentation, we were able to improve the model's performance without increasing the complexity of the model nor needing more data.**"
   ]
  },
  {
   "cell_type": "markdown",
   "metadata": {},
   "source": [
    "# Transfer Learning\n",
    "\n",
    "Transfer learning is a machine learning methodology wherein we utilize a pre-trained model developed for one task as the starting point for a different, yet related task. This approach has gained immense popularity in deep learning applications, particularly within computer vision (CV) and natural language processing (NLP).\n",
    "\n",
    "The fundamental rationale behind transfer learning lies in its ability to significantly reduce the computational resources and time required to develop complex models from scratch. By leveraging existing knowledge from pre-trained models, we can achieve substantial performance improvements on new tasks.\n",
    "\n",
    "\n",
    "<p align=\"center\">\n",
    "<img src=\"images/transfer_learning3.png\" alt=\"\" style=\"width: 50%; height: 50%\"/>\n",
    "</p>"
   ]
  },
  {
   "cell_type": "markdown",
   "metadata": {},
   "source": [
    "## Origins and Applications of Transfer Learning\n",
    "\n",
    "Transfer learning is a powerful machine learning technique where a model developed for one task is reused as the starting point for a model on a second task. It has been highly successful in fields such as computer vision (CV) and natural language processing (NLP), where leveraging pre-trained models can greatly enhance performance and reduce the time and resources needed to develop new models.\n",
    "\n",
    "### Computer Vision (CV)\n",
    "\n",
    "Historically, transfer learning first gained prominence in the domain of computer vision (CV). This method involves utilizing a neural network that has already been trained on a large and diverse dataset, such as ImageNet. The pre-trained model serves as a basis for solving other CV tasks, such as image classification or object detection, by adapting it to the specific requirements of a new, often smaller, dataset.\n",
    "\n",
    "The fundamental idea behind using a pre-trained model is that it has already learned how to extract relevant features from images. Let's break this down:\n",
    "\n",
    "- **Edges:** In the initial (lower) layers of the network, the feature maps typically capture basic edges and directions, such as horizontal or vertical lines.\n",
    "- **Textures and Patterns:** Moving deeper into the network (middle layers), the feature maps begin to visualize more complex textures and patterns.\n",
    "- **Objects and Parts of Objects:** In the top layers, the feature maps depict high-level structures, including parts of objects and entire objects themselves.\n",
    "\n",
    "By leveraging these pre-learned features, we can significantly accelerate the training process for new tasks. For instance, instead of starting from scratch, your model can build on previously learned knowledge about edges, textures, and objects, making it much more efficient.\n",
    "\n",
    "Below is an example diagram illustrating feature extraction at different stages of a neural network. This will help you visualize what happens internally at each layer:\n",
    "\n",
    "<p align=\"center\">\n",
    "<img src=\"images/cnn_layers_view.webp\" alt=\"\" style=\"width: 50%; height: 50%\"/>\n",
    "</p>\n",
    "\n",
    "This hierarchical learning enables the model to generalize well across varied image distributions, including different lighting conditions, angles, and object types.\n",
    "\n",
    "\n",
    "### Natural Language Processing (NLP)\n",
    "\n",
    "More recently, around 2018, transfer learning began to demonstrate remarkable effectiveness in NLP. The [FastAI](https://www.fast.ai/) team introduced the [Universal Language Model Fine-Tuning (ULMFiT)](https://arxiv.org/abs/1801.06146) technique, showcasing its capability to tackle various NLP tasks efficiently.\n",
    "\n",
    "- **ULMFiT Approach:**\n",
    "    1. **Pre-training:** A language model is initially trained on a large corpus of unlabeled text (e.g., Wikipedia). This phase helps the model understand grammar, semantics, and some world facts.\n",
    "    2. **Fine-tuning:** The pre-trained language model is then fine-tuned on a domain-specific dataset to adapt to the peculiarities of the target text.\n",
    "    3. **Classifier Fine-tuning:** Finally, a classifier is added, and the entire model is fine-tuned for the specific task, such as sentiment analysis, document classification, or question answering."
   ]
  },
  {
   "cell_type": "markdown",
   "metadata": {},
   "source": [
    "## The Value of Transfer Learning\n",
    "\n",
    "Transfer learning offers numerous advantages:\n",
    "\n",
    "- **Reduced Training Time:** Pre-trained models have already grasped essential features from large datasets, drastically cutting down the training duration for new tasks.\n",
    "- **Lower Computational Requirements:** Because the central features are pre-learned, the computational load is lighter compared to training from scratch.\n",
    "- **Enhanced Performance with Limited Data:** When there's a scarcity of labeled data, transfer learning leverages knowledge from related tasks, leading to better performance.\n",
    "- **Broad Applicability:** Transfer learning is versatile and applicable to various domains, including image processing, NLP, and audio recognition.\n",
    "\n",
    "## Precautions in Using Transfer Learning\n",
    "\n",
    "While powerful, transfer learning requires careful application:\n",
    "\n",
    "- **Data Similarity:** The success largely depends on how similar the source and target data are. Divergent datasets may yield diminished performance gains.\n",
    "- **Task Complexity:** Simple tasks with minimal computational needs might not benefit significantly from transfer learning.\n",
    "- **Fine-tuning Risks:** Over-fine-tuning can lead to overfitting, resulting in poor generalization to new data.\n",
    "\n",
    "Properly applied, transfer learning unlocks huge potential in creating efficient and highly effective machine learning models."
   ]
  },
  {
   "cell_type": "markdown",
   "metadata": {},
   "source": [
    "\n",
    "## How to Kickstart Transfer Learning\n",
    "\n",
    "Starting your neural network training with a pre-trained model is highly recommended. This method substantially reduces the amount of required data compared to starting from scratch.\n",
    "\n",
    "In scenarios where no pre-trained models exist, such as medical imaging, employing general-purpose models like those pre-trained on ImageNet can still offer benefits. Research indicates that even partial layers from such models can accelerate training and enhance accuracy. This is known as **feature extraction** and these layers are called **backbone**. The backbone of a pre-trained CNN becomes quite good at detecting edges, textures, and shapes, which are useful for many tasks. Please check [the CNN explainer](https://poloclub.github.io/cnn-explainer/) for a more visual explanation."
   ]
  },
  {
   "cell_type": "markdown",
   "metadata": {},
   "source": [
    "## Unveiling Self-Supervised Learning\n",
    "Self-supervised learning becomes particularly valuable when pre-trained models aren't available within your domain. It involves using built-in labels from the input data itself, eliminating the need for external labels.\n",
    "\n",
    "### Self-Supervised Learning for Natural Language Processing (NLP)\n",
    "In ULMFiT, a language model is pre-trained to predict the next word in a sentence, thereby learning about language structure and semantics. This model can then be fine-tuned for specific tasks, achieving state-of-the-art results with minimal data.\n",
    "\n",
    "> Language modeling is the \"de facto\" way to apply self-supervised learning to NLP. However, several methods can be leveraged for various language modeling tasks, which we'll explore further.\n",
    "\n",
    "### Self-Supervised Learning for Computer Vision (CV)\n",
    "Self-supervised learning in computer vision typically involves designing tasks where the supervision signal comes from the data itself. Here are a few popular techniques:\n",
    "\n",
    "1. **Image Colorization:** The task requires converting grayscale images back to color. The network learns semantic content and context to perform colorization effectively.\n",
    "2. **Rotation Prediction:** The model is trained to predict the degree of rotation applied to an image (0°, 90°, 180°, or 270°). This forces the network to understand the geometric and structural relations within the image.\n",
    "3. **Contrastive Learning:** Techniques like SimCLR involve training the model to identify which parts of transformed versions of the same image are similar while differentiating them from other images.\n",
    "4. **Jigsaw Puzzles:** An image is divided into patches, shuffled, and the model is tasked with reconstructing the original image. This encourages the network to learn about spatial relationships between different parts of the image.\n",
    "\n",
    "These self-supervised learning techniques allow models to learn rich features from unlabeled data, making them highly effective when transferred to downstream tasks such as image classification, segmentation, and object detection."
   ]
  },
  {
   "cell_type": "markdown",
   "metadata": {},
   "source": [
    "`Let's implement a Transfer Learning model. We'll use the ResNet-34 model pre-trained on the ImageNet dataset. This pre-trained model will serve as the backbone for our new model, which we'll fine-tune on our Dogs Vs Cats dataset.`"
   ]
  },
  {
   "cell_type": "code",
   "execution_count": 25,
   "metadata": {},
   "outputs": [],
   "source": [
    "# Same Dataset, DataModule and Transforms as before"
   ]
  },
  {
   "cell_type": "markdown",
   "metadata": {},
   "source": [
    "> Below is the trick. We'll get almost the same module, but now we'll change `pretrained=True` so we can use the pre-trained weights from ImageNet.\n",
    ">\n",
    "> This will download the weights from [PyTorh's servers](https://pytorch.org/vision/stable/models.html) and we'll have a model that is already trained on ImageNet. This is the power of Transfer Learning."
   ]
  },
  {
   "cell_type": "code",
   "execution_count": 26,
   "metadata": {},
   "outputs": [],
   "source": [
    "class ResNet34PreTrainedModel(L.LightningModule):\n",
    "    def __init__(self, num_classes: int = 2):\n",
    "        super().__init__()\n",
    "        # Load pre-trained ResNet34 model\n",
    "        self.resnet34 = torchvision.models.resnet34(pretrained=True)\n",
    "        \n",
    "        # Replace the final fully connected layer to match our number of classes\n",
    "        self.resnet34.fc = nn.Linear(self.resnet34.fc.in_features, num_classes)\n",
    "\n",
    "        # Freeze all layers except the final classifier\n",
    "        for param in self.resnet34.parameters():\n",
    "            param.requires_grad = False\n",
    "        for param in self.resnet34.fc.parameters():\n",
    "            param.requires_grad = True\n",
    "\n",
    "        # Alternative: Fine-tuning approach (commented out)\n",
    "        # Uncomment to update all model weights during training\n",
    "        # for param in self.resnet34.parameters():\n",
    "        #     param.requires_grad = True\n",
    "\n",
    "        # Initialize accuracy metric for binary classification\n",
    "        self.accuracy = torchmetrics.Accuracy(task=\"binary\")\n",
    "        \n",
    "    def forward(self, x: torch.Tensor) -> torch.Tensor:\n",
    "        return self.resnet34(x)\n",
    "\n",
    "    def training_step(self, batch: Tuple[torch.Tensor, torch.Tensor], batch_idx: int) -> torch.Tensor:\n",
    "        inputs, labels = batch\n",
    "        logits = self(inputs)\n",
    "        loss = F.cross_entropy(logits, labels)\n",
    "        self.log(\"train_loss\", loss, prog_bar=True)\n",
    "        return loss\n",
    "    \n",
    "    def validation_step(self, batch: Tuple[torch.Tensor, torch.Tensor], batch_idx: int) -> None:\n",
    "        inputs, labels = batch\n",
    "        logits = self(inputs)\n",
    "        loss = F.cross_entropy(logits, labels)\n",
    "        self.log(\"val_loss\", loss, prog_bar=True, sync_dist=True)\n",
    "        \n",
    "        # Calculate and log validation accuracy\n",
    "        probs = F.softmax(logits, dim=1)\n",
    "        preds = torch.argmax(probs, dim=1)\n",
    "        self.log(\"val_acc\", torch.sum(preds == labels).item() / len(labels), prog_bar=True, sync_dist=True)\n",
    "\n",
    "    def test_step(self, batch: Tuple[torch.Tensor, torch.Tensor], batch_idx: int) -> None:\n",
    "        inputs, labels = batch\n",
    "        logits = self(inputs)\n",
    "        loss = F.cross_entropy(logits, labels)\n",
    "        self.log(\"test_loss\", loss, prog_bar=True)\n",
    "        \n",
    "        # Calculate and log test accuracy\n",
    "        probs = F.softmax(logits, dim=1)\n",
    "        preds = torch.argmax(probs, dim=1)\n",
    "        self.log(\"test_acc\", torch.sum(preds == labels).item() / len(labels), prog_bar=True)\n",
    "\n",
    "    def configure_optimizers(self) -> torch.optim.Optimizer:\n",
    "        # Use Adam optimizer with a learning rate of 3e-4\n",
    "        return torch.optim.Adam(self.parameters(), lr=3e-4)"
   ]
  },
  {
   "cell_type": "code",
   "execution_count": 27,
   "metadata": {},
   "outputs": [
    {
     "name": "stderr",
     "output_type": "stream",
     "text": [
      "/home/jacob/miniforge3/envs/dell/lib/python3.12/site-packages/torchvision/models/_utils.py:223: UserWarning: Arguments other than a weight enum or `None` for 'weights' are deprecated since 0.13 and may be removed in the future. The current behavior is equivalent to passing `weights=ResNet34_Weights.IMAGENET1K_V1`. You can also use `weights=ResNet34_Weights.DEFAULT` to get the most up-to-date weights.\n",
      "  warnings.warn(msg)\n"
     ]
    }
   ],
   "source": [
    "# Initialize the data module\n",
    "dm = DogsCatsDataModuleV2(batch_size=128, num_workers=24)\n",
    "\n",
    "# Initialize the model\n",
    "resnet34_pretrained_model = ResNet34PreTrainedModel()"
   ]
  },
  {
   "cell_type": "code",
   "execution_count": 28,
   "metadata": {},
   "outputs": [
    {
     "name": "stdout",
     "output_type": "stream",
     "text": [
      "The model has 1,026 trainable parameters\n"
     ]
    }
   ],
   "source": [
    "print(f\"The model has {count_parameters(resnet34_pretrained_model):,} trainable parameters\")\n"
   ]
  },
  {
   "cell_type": "markdown",
   "metadata": {},
   "source": [
    "\n",
    "> `Notice that the number of trainable parameters is much smaller than before. This is because we are using a pre-trained model and only updating the weights of the final layer. All other layers are frozen and their weights are not updated. We went from 21,285,698 trainable parameters to 1,026, which is almost 21,000 times less computing power required to train the model.`"
   ]
  },
  {
   "cell_type": "code",
   "execution_count": 29,
   "metadata": {},
   "outputs": [
    {
     "name": "stderr",
     "output_type": "stream",
     "text": [
      "Using 16bit Automatic Mixed Precision (AMP)\n",
      "GPU available: True (cuda), used: True\n",
      "TPU available: False, using: 0 TPU cores\n",
      "HPU available: False, using: 0 HPUs\n",
      "LOCAL_RANK: 0 - CUDA_VISIBLE_DEVICES: [0,1]\n",
      "\n",
      "  | Name     | Type           | Params | Mode \n",
      "----------------------------------------------------\n",
      "0 | resnet34 | ResNet         | 21.3 M | train\n",
      "1 | accuracy | BinaryAccuracy | 0      | train\n",
      "----------------------------------------------------\n",
      "1.0 K     Trainable params\n",
      "21.3 M    Non-trainable params\n",
      "21.3 M    Total params\n",
      "85.143    Total estimated model params size (MB)\n"
     ]
    },
    {
     "data": {
      "application/vnd.jupyter.widget-view+json": {
       "model_id": "c2e24d98fda64f3490fb1f467fe7d18d",
       "version_major": 2,
       "version_minor": 0
      },
      "text/plain": [
       "Sanity Checking: |          | 0/? [00:00<?, ?it/s]"
      ]
     },
     "metadata": {},
     "output_type": "display_data"
    },
    {
     "data": {
      "application/vnd.jupyter.widget-view+json": {
       "model_id": "3ed535e76daa4050b52af9f6f87ff30b",
       "version_major": 2,
       "version_minor": 0
      },
      "text/plain": [
       "Training: |          | 0/? [00:00<?, ?it/s]"
      ]
     },
     "metadata": {},
     "output_type": "display_data"
    },
    {
     "name": "stderr",
     "output_type": "stream",
     "text": [
      "/home/jacob/miniforge3/envs/dell/lib/python3.12/site-packages/PIL/TiffImagePlugin.py:900: UserWarning: Truncated File Read\n",
      "  warnings.warn(str(msg))\n"
     ]
    },
    {
     "data": {
      "application/vnd.jupyter.widget-view+json": {
       "model_id": "ea72f37f481b4346a4767315388d9dbf",
       "version_major": 2,
       "version_minor": 0
      },
      "text/plain": [
       "Validation: |          | 0/? [00:00<?, ?it/s]"
      ]
     },
     "metadata": {},
     "output_type": "display_data"
    },
    {
     "name": "stderr",
     "output_type": "stream",
     "text": [
      "/home/jacob/miniforge3/envs/dell/lib/python3.12/site-packages/PIL/TiffImagePlugin.py:900: UserWarning: Truncated File Read\n",
      "  warnings.warn(str(msg))\n"
     ]
    },
    {
     "data": {
      "application/vnd.jupyter.widget-view+json": {
       "model_id": "0c6804c5a92149db95928747ec20f6af",
       "version_major": 2,
       "version_minor": 0
      },
      "text/plain": [
       "Validation: |          | 0/? [00:00<?, ?it/s]"
      ]
     },
     "metadata": {},
     "output_type": "display_data"
    },
    {
     "name": "stderr",
     "output_type": "stream",
     "text": [
      "/home/jacob/miniforge3/envs/dell/lib/python3.12/site-packages/PIL/TiffImagePlugin.py:900: UserWarning: Truncated File Read\n",
      "  warnings.warn(str(msg))\n"
     ]
    },
    {
     "data": {
      "application/vnd.jupyter.widget-view+json": {
       "model_id": "c4ff7270d4e04e7abde414d257b5273a",
       "version_major": 2,
       "version_minor": 0
      },
      "text/plain": [
       "Validation: |          | 0/? [00:00<?, ?it/s]"
      ]
     },
     "metadata": {},
     "output_type": "display_data"
    },
    {
     "name": "stderr",
     "output_type": "stream",
     "text": [
      "/home/jacob/miniforge3/envs/dell/lib/python3.12/site-packages/PIL/TiffImagePlugin.py:900: UserWarning: Truncated File Read\n",
      "  warnings.warn(str(msg))\n"
     ]
    },
    {
     "data": {
      "application/vnd.jupyter.widget-view+json": {
       "model_id": "3225a189173344139b734f8fc5307fa0",
       "version_major": 2,
       "version_minor": 0
      },
      "text/plain": [
       "Validation: |          | 0/? [00:00<?, ?it/s]"
      ]
     },
     "metadata": {},
     "output_type": "display_data"
    },
    {
     "name": "stderr",
     "output_type": "stream",
     "text": [
      "/home/jacob/miniforge3/envs/dell/lib/python3.12/site-packages/PIL/TiffImagePlugin.py:900: UserWarning: Truncated File Read\n",
      "  warnings.warn(str(msg))\n"
     ]
    },
    {
     "data": {
      "application/vnd.jupyter.widget-view+json": {
       "model_id": "d9ffec3bef7d4e3e8c7fd633756a81c9",
       "version_major": 2,
       "version_minor": 0
      },
      "text/plain": [
       "Validation: |          | 0/? [00:00<?, ?it/s]"
      ]
     },
     "metadata": {},
     "output_type": "display_data"
    },
    {
     "name": "stderr",
     "output_type": "stream",
     "text": [
      "/home/jacob/miniforge3/envs/dell/lib/python3.12/site-packages/PIL/TiffImagePlugin.py:900: UserWarning: Truncated File Read\n",
      "  warnings.warn(str(msg))\n"
     ]
    },
    {
     "data": {
      "application/vnd.jupyter.widget-view+json": {
       "model_id": "aaca029cfa2e475eb51a0269074f295b",
       "version_major": 2,
       "version_minor": 0
      },
      "text/plain": [
       "Validation: |          | 0/? [00:00<?, ?it/s]"
      ]
     },
     "metadata": {},
     "output_type": "display_data"
    },
    {
     "name": "stderr",
     "output_type": "stream",
     "text": [
      "/home/jacob/miniforge3/envs/dell/lib/python3.12/site-packages/PIL/TiffImagePlugin.py:900: UserWarning: Truncated File Read\n",
      "  warnings.warn(str(msg))\n"
     ]
    },
    {
     "data": {
      "application/vnd.jupyter.widget-view+json": {
       "model_id": "894c4d41119c403abeb19254f3bb9c97",
       "version_major": 2,
       "version_minor": 0
      },
      "text/plain": [
       "Validation: |          | 0/? [00:00<?, ?it/s]"
      ]
     },
     "metadata": {},
     "output_type": "display_data"
    },
    {
     "name": "stderr",
     "output_type": "stream",
     "text": [
      "/home/jacob/miniforge3/envs/dell/lib/python3.12/site-packages/PIL/TiffImagePlugin.py:900: UserWarning: Truncated File Read\n",
      "  warnings.warn(str(msg))\n"
     ]
    },
    {
     "data": {
      "application/vnd.jupyter.widget-view+json": {
       "model_id": "10a2de3f75b2406689ac48e90202546b",
       "version_major": 2,
       "version_minor": 0
      },
      "text/plain": [
       "Validation: |          | 0/? [00:00<?, ?it/s]"
      ]
     },
     "metadata": {},
     "output_type": "display_data"
    },
    {
     "name": "stderr",
     "output_type": "stream",
     "text": [
      "/home/jacob/miniforge3/envs/dell/lib/python3.12/site-packages/PIL/TiffImagePlugin.py:900: UserWarning: Truncated File Read\n",
      "  warnings.warn(str(msg))\n"
     ]
    },
    {
     "data": {
      "application/vnd.jupyter.widget-view+json": {
       "model_id": "174e8305d78d461d949f43c52956e85d",
       "version_major": 2,
       "version_minor": 0
      },
      "text/plain": [
       "Validation: |          | 0/? [00:00<?, ?it/s]"
      ]
     },
     "metadata": {},
     "output_type": "display_data"
    },
    {
     "name": "stderr",
     "output_type": "stream",
     "text": [
      "/home/jacob/miniforge3/envs/dell/lib/python3.12/site-packages/PIL/TiffImagePlugin.py:900: UserWarning: Truncated File Read\n",
      "  warnings.warn(str(msg))\n"
     ]
    },
    {
     "data": {
      "application/vnd.jupyter.widget-view+json": {
       "model_id": "44dd838166be443999ad2576babf2fe9",
       "version_major": 2,
       "version_minor": 0
      },
      "text/plain": [
       "Validation: |          | 0/? [00:00<?, ?it/s]"
      ]
     },
     "metadata": {},
     "output_type": "display_data"
    },
    {
     "name": "stderr",
     "output_type": "stream",
     "text": [
      "`Trainer.fit` stopped: `max_epochs=10` reached.\n"
     ]
    }
   ],
   "source": [
    "# Initialize a checkpoint callback to save the model during training\n",
    "# This callback monitors the validation loss and saves the model with the lowest validation loss\n",
    "checkpoint_callback = L.pytorch.callbacks.ModelCheckpoint(\n",
    "    monitor=\"val_loss\",  # Metric to monitor for saving the best model\n",
    "    dirpath=\"checkpoints\",  # Directory where the checkpoints will be saved\n",
    "    filename=\"resnet34_pretrained_model_data_aug-{epoch:02d}-{val_loss:.2f}\",  # Filename template for the saved checkpoints\n",
    "    save_top_k=1,  # Save only the best model (with the lowest validation loss)\n",
    "    mode=\"min\"  # Mode to determine the best model; 'min' means lower validation loss is better\n",
    ")  # Save the best model based on validation loss\n",
    "\n",
    "# Initialize the trainer, which is responsible for handling the training process\n",
    "trainer = L.Trainer(\n",
    "    max_epochs=10,  # Train the model for a maximum of 10 epochs\n",
    "    accelerator='auto',  # Automatically select the best available hardware (CPU or GPU)\n",
    "    devices=1,  # Use 1 devices (e.g., 1 GPU) for training\n",
    "    precision=16,  # Use 16-bit precision for faster training and reduced memory usage\n",
    "    callbacks=[checkpoint_callback]  # Add the checkpoint callback to save the best model during training\n",
    ")\n",
    "\n",
    "# Train the model\n",
    "# trainer.fit starts the training process using the specified model and data module\n",
    "trainer.fit(resnet34_pretrained_model, dm)"
   ]
  },
  {
   "cell_type": "code",
   "execution_count": 30,
   "metadata": {},
   "outputs": [
    {
     "name": "stdout",
     "output_type": "stream",
     "text": [
      "Best model path: /media/nas-elias/drive/UFRN/Disciplinas/2024-2/Dell Deep Learning and Gen-AI/checkpoints/resnet34_pretrained_model_data_aug-epoch=09-val_loss=0.03.ckpt\n"
     ]
    }
   ],
   "source": [
    "print(f'Best model path: {checkpoint_callback.best_model_path}')"
   ]
  },
  {
   "cell_type": "code",
   "execution_count": 31,
   "metadata": {},
   "outputs": [
    {
     "name": "stderr",
     "output_type": "stream",
     "text": [
      "GPU available: True (cuda), used: False\n",
      "TPU available: False, using: 0 TPU cores\n",
      "HPU available: False, using: 0 HPUs\n"
     ]
    },
    {
     "data": {
      "application/vnd.jupyter.widget-view+json": {
       "model_id": "e0f59847a6054ac3935749dca7d4e085",
       "version_major": 2,
       "version_minor": 0
      },
      "text/plain": [
       "Testing: |          | 0/? [00:00<?, ?it/s]"
      ]
     },
     "metadata": {},
     "output_type": "display_data"
    },
    {
     "data": {
      "text/html": [
       "<pre style=\"white-space:pre;overflow-x:auto;line-height:normal;font-family:Menlo,'DejaVu Sans Mono',consolas,'Courier New',monospace\">┏━━━━━━━━━━━━━━━━━━━━━━━━━━━┳━━━━━━━━━━━━━━━━━━━━━━━━━━━┓\n",
       "┃<span style=\"font-weight: bold\">        Test metric        </span>┃<span style=\"font-weight: bold\">       DataLoader 0        </span>┃\n",
       "┡━━━━━━━━━━━━━━━━━━━━━━━━━━━╇━━━━━━━━━━━━━━━━━━━━━━━━━━━┩\n",
       "│<span style=\"color: #008080; text-decoration-color: #008080\">         test_acc          </span>│<span style=\"color: #800080; text-decoration-color: #800080\">    0.9875602126121521     </span>│\n",
       "│<span style=\"color: #008080; text-decoration-color: #008080\">         test_loss         </span>│<span style=\"color: #800080; text-decoration-color: #800080\">    0.03526074439287186    </span>│\n",
       "└───────────────────────────┴───────────────────────────┘\n",
       "</pre>\n"
      ],
      "text/plain": [
       "┏━━━━━━━━━━━━━━━━━━━━━━━━━━━┳━━━━━━━━━━━━━━━━━━━━━━━━━━━┓\n",
       "┃\u001b[1m \u001b[0m\u001b[1m       Test metric       \u001b[0m\u001b[1m \u001b[0m┃\u001b[1m \u001b[0m\u001b[1m      DataLoader 0       \u001b[0m\u001b[1m \u001b[0m┃\n",
       "┡━━━━━━━━━━━━━━━━━━━━━━━━━━━╇━━━━━━━━━━━━━━━━━━━━━━━━━━━┩\n",
       "│\u001b[36m \u001b[0m\u001b[36m        test_acc         \u001b[0m\u001b[36m \u001b[0m│\u001b[35m \u001b[0m\u001b[35m   0.9875602126121521    \u001b[0m\u001b[35m \u001b[0m│\n",
       "│\u001b[36m \u001b[0m\u001b[36m        test_loss        \u001b[0m\u001b[36m \u001b[0m│\u001b[35m \u001b[0m\u001b[35m   0.03526074439287186   \u001b[0m\u001b[35m \u001b[0m│\n",
       "└───────────────────────────┴───────────────────────────┘\n"
      ]
     },
     "metadata": {},
     "output_type": "display_data"
    },
    {
     "data": {
      "text/plain": [
       "[{'test_loss': 0.03526074439287186, 'test_acc': 0.9875602126121521}]"
      ]
     },
     "execution_count": 31,
     "metadata": {},
     "output_type": "execute_result"
    }
   ],
   "source": [
    "# Reload the best model from the checkpoint\n",
    "# This loads the model with the lowest validation loss saved during training\n",
    "# checkpoint_callback.best_model_path contains the path to the best model checkpoint\n",
    "best_model = ResNet34PreTrainedModel.load_from_checkpoint(checkpoint_callback.best_model_path)\n",
    "\n",
    "# Initialize a new trainer for inference or further evaluation\n",
    "new_trainer = L.Trainer(\n",
    "    accelerator='cpu',  # Use CPU for inference\n",
    "    callbacks=[checkpoint_callback]  # Include the checkpoint callback\n",
    ")\n",
    "\n",
    "# Evaluate the best model on the test dataset using the new trainer\n",
    "new_trainer.test(best_model, datamodule=dm)"
   ]
  },
  {
   "cell_type": "markdown",
   "metadata": {},
   "source": [
    "> <br>\n",
    ">\n",
    "> - Our fully connected model had 70,260,738 trainable parameters and accuracy was around 60%\n",
    "> - Our simple CNN model had 33,579,554 trainable parameters and accuracy improved to 79%\n",
    "> - Our ResNet-34 model has 21,285,698 trainable parameters and accuracy improved to around 90%\n",
    "> - Our ResNet-34 model with data augmentation has the same number of trainable parameters and accuracy improved to around 92%.\n",
    "> - Our Transfer Learning model has 1,026 trainable parameters and accuracy improved to around 99%.\n",
    ">\n",
    "> As you can see, the number of trainable parameters has decreased significantly, and the accuracy has improved. **By using Transfer Learning, we were able to reuse the knowledge from a pre-trained model and achieve a high level of accuracy with minimal training.**"
   ]
  },
  {
   "cell_type": "markdown",
   "metadata": {},
   "source": [
    "# Questions\n",
    "\n",
    "1. What is the main advantage of Convolutional Neural Networks (CNNs) over traditional fully connected networks when working with image data?\n",
    "\n",
    "2. Name the three primary types of layers in a CNN and briefly describe their functions.\n",
    "\n",
    "3. What is the purpose of data augmentation in training deep learning models for image classification tasks?\n",
    "\n",
    "4. Explain the concept of transfer learning and why it's particularly useful in computer vision tasks.\n",
    "\n",
    "5. How does the ResNet architecture address the problem of training very deep neural networks?\n",
    "\n",
    "6. What is the difference between feature extraction and fine-tuning in the context of transfer learning?\n",
    "\n",
    "7. Why is it important to normalize input images using the same mean and standard deviation as the pre-trained model when doing transfer learning?\n",
    "\n",
    "8. Describe two common data augmentation techniques used in image classification tasks.\n",
    "\n",
    "9. What is the benefit of gradually unfreezing layers when fine-tuning a pre-trained model?\n",
    "\n",
    "10. In the notebook example, how did the number of trainable parameters and model accuracy change when moving from a custom ResNet34 model to a pre-trained ResNet34 model with transfer learning?"
   ]
  },
  {
   "cell_type": "markdown",
   "metadata": {},
   "source": [
    "`Answers are commented inside this cell`\n",
    "\n",
    "<!-- 1. The main advantage of Convolutional Neural Networks (CNNs) over traditional fully connected networks when working with image data is that CNNs preserve spatial relationships in images. They can effectively capture and utilize the 2D structure of images, leading to better feature extraction and improved performance with fewer parameters.\n",
    "\n",
    "2. The three primary types of layers in a CNN are:\n",
    "- Convolutional layers: Extract features from input images\n",
    "- Pooling layers: Reduce spatial dimensions and generalize features\n",
    "- Fully connected layers: Perform final classification based on extracted features\n",
    "\n",
    "3. The purpose of data augmentation in training deep learning models for image classification tasks is to artificially increase the size and diversity of the training dataset. This helps improve model robustness, generalization, and performance, especially when working with limited data.\n",
    "\n",
    "4. Transfer learning is the process of using a pre-trained model as a starting point for a new, related task. It's particularly useful in computer vision tasks because lower-level features (like edges, textures) learned from large datasets are often transferable to other image-related tasks, saving time and computational resources.\n",
    "\n",
    "5. The ResNet architecture addresses the problem of training very deep neural networks by introducing residual connections (skip connections). These allow the network to learn residual functions with reference to layer inputs, which helps mitigate the vanishing gradient problem and enables the training of much deeper networks.\n",
    "\n",
    "6. In transfer learning:\n",
    "- Feature extraction involves using the pre-trained model's layers as fixed feature extractors and only training a new classifier on top.\n",
    "- Fine-tuning involves updating some or all of the pre-trained model's weights to adapt to the new task.\n",
    "\n",
    "7. It's important to normalize input images using the same mean and standard deviation as the pre-trained model because the model's weights are optimized for inputs with those specific statistical properties. Using the same normalization ensures that new inputs are processed consistently with how the model was trained.\n",
    "\n",
    "8. Two common data augmentation techniques for image classification tasks are:\n",
    "- Random horizontal flipping: Mirroring the image horizontally\n",
    "- Color jittering: Randomly adjusting brightness, contrast, saturation, and hue\n",
    "\n",
    "9. The benefit of gradually unfreezing layers when fine-tuning a pre-trained model is that it allows for a more controlled adaptation to the new task. Starting with only the top layers unfrozen helps preserve useful low-level features while adapting higher-level features, potentially leading to better performance and preventing catastrophic forgetting.\n",
    "\n",
    "10. In the notebook example, when moving from a custom ResNet34 model to a pre-trained ResNet34 model with transfer learning:\n",
    "- The number of trainable parameters decreased dramatically from 21,285,698 to 1,026.\n",
    "- The model accuracy improved from around 92% to approximately 99%.\n",
    "\n",
    "This demonstrates how transfer learning can significantly reduce computational requirements while improving model performance. -->"
   ]
  },
  {
   "cell_type": "markdown",
   "metadata": {},
   "source": []
  }
 ],
 "metadata": {
  "kernelspec": {
   "display_name": "base",
   "language": "python",
   "name": "python3"
  },
  "language_info": {
   "codemirror_mode": {
    "name": "ipython",
    "version": 3
   },
   "file_extension": ".py",
   "mimetype": "text/x-python",
   "name": "python",
   "nbconvert_exporter": "python",
   "pygments_lexer": "ipython3",
   "version": "3.12.4"
  }
 },
 "nbformat": 4,
 "nbformat_minor": 2
}
